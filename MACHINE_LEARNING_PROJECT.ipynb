{
  "nbformat": 4,
  "nbformat_minor": 0,
  "metadata": {
    "colab": {
      "provenance": [],
      "mount_file_id": "1_O_fJ4qCLOHxvlLP0oli5EovMTIUKFlH",
      "authorship_tag": "ABX9TyMB8YvdT6IC8Ohwnh9/erRu",
      "include_colab_link": true
    },
    "kernelspec": {
      "name": "python3",
      "display_name": "Python 3"
    },
    "language_info": {
      "name": "python"
    }
  },
  "cells": [
    {
      "cell_type": "markdown",
      "metadata": {
        "id": "view-in-github",
        "colab_type": "text"
      },
      "source": [
        "<a href=\"https://colab.research.google.com/github/Pateke/Simple-Predictive-Machine-Model/blob/main/MACHINE_LEARNING_PROJECT.ipynb\" target=\"_parent\"><img src=\"https://colab.research.google.com/assets/colab-badge.svg\" alt=\"Open In Colab\"/></a>"
      ]
    },
    {
      "cell_type": "markdown",
      "source": [
        "##**NIGERIA INFLATION RATE**"
      ],
      "metadata": {
        "id": "JR4a_u8bo7kL"
      }
    },
    {
      "cell_type": "markdown",
      "source": [
        "##**PROBLEM STATEMENT**##"
      ],
      "metadata": {
        "id": "QDSrehUupZ8L"
      }
    },
    {
      "cell_type": "markdown",
      "source": [
        "The project aim:\n",
        "\n",
        "* Create a predictive model.\n",
        "* The model that takes values for select features of various consumer\n",
        "  price index (CPI) components and\n",
        "* Predict the inflation rates\n"
      ],
      "metadata": {
        "id": "yXB_VLB-psHp"
      }
    },
    {
      "cell_type": "markdown",
      "source": [
        "##**DATA SOURCE**##"
      ],
      "metadata": {
        "id": "Wuwom8xBqwfA"
      }
    },
    {
      "cell_type": "markdown",
      "source": [
        "The dataset was obtained from an online data source (kaggle). Real life dataset stored in a csv file\n",
        "\n",
        "https://www.kaggle.com/datasets/iamhardy/nigeria-inflation-rates"
      ],
      "metadata": {
        "id": "MZRhNB8vq9CF"
      }
    },
    {
      "cell_type": "code",
      "source": [
        "#import statement/mport dataset\n",
        "import pandas as pd\n",
        "import numpy as np\n",
        "import matplotlib.pyplot as plt\n",
        "import seaborn as sns\n",
        "import sklearn\n",
        "from sklearn.model_selection import train_test_split\n",
        "from sklearn.linear_model import LinearRegression\n",
        "from sklearn.metrics import mean_absolute_error\n",
        "from sklearn.metrics import mean_squared_error,r2_score\n",
        "import warnings\n",
        "warnings.filterwarnings('ignore')\n",
        "\n",
        "\n",
        "df=pd.read_csv(\"/content/drive/MyDrive/MY DATA ANALYTICS CLASS/NigeriaInflationRates.csv\")\n"
      ],
      "metadata": {
        "id": "fm63uHfUn3UF"
      },
      "execution_count": null,
      "outputs": []
    },
    {
      "cell_type": "code",
      "source": [
        "from google.colab import drive\n",
        "drive.mount('/content/drive')"
      ],
      "metadata": {
        "colab": {
          "base_uri": "https://localhost:8080/"
        },
        "id": "fcHLeh0wnp1a",
        "outputId": "087e8b91-514c-4ee0-c178-7bd6ae44efac"
      },
      "execution_count": null,
      "outputs": [
        {
          "output_type": "stream",
          "name": "stdout",
          "text": [
            "Drive already mounted at /content/drive; to attempt to forcibly remount, call drive.mount(\"/content/drive\", force_remount=True).\n"
          ]
        }
      ]
    },
    {
      "cell_type": "code",
      "source": [
        "df"
      ],
      "metadata": {
        "colab": {
          "base_uri": "https://localhost:8080/",
          "height": 458
        },
        "id": "BTeP6RgD1naD",
        "outputId": "98385468-0dc8-403a-cfcd-29b6315d18a8"
      },
      "execution_count": null,
      "outputs": [
        {
          "output_type": "execute_result",
          "data": {
            "text/plain": [
              "     Year  Month  Inflation_Rate  Crude Oil Price  Production  \\\n",
              "0    2008      1            8.60            94.26        2.17   \n",
              "1    2008      2            8.00            98.15        2.08   \n",
              "2    2008      3            7.80           103.73        2.06   \n",
              "3    2008      4            8.20           116.73        1.96   \n",
              "4    2008      5            9.70           126.57        2.05   \n",
              "..    ...    ...             ...              ...         ...   \n",
              "193  2024      2           31.70            86.08        1.32   \n",
              "194  2024      3           33.20            88.80        1.23   \n",
              "195  2024      4           33.69            93.12        1.28   \n",
              "196  2024      5           33.95            84.01        1.25   \n",
              "197  2024      6           34.19            83.64        1.28   \n",
              "\n",
              "     Crude Oil Export    CPI_Food  CPI_Energy  CPI_Health  CPI_Transport  \\\n",
              "0                1.72   75.534431   84.612846   83.863139      86.530038   \n",
              "1                1.63   75.154185   85.231632   83.365891      88.355236   \n",
              "2                1.61   78.242523   83.251516   86.082993      84.376304   \n",
              "3                1.51   79.434268   84.348830   89.445332      88.600334   \n",
              "4                1.60   80.783677   85.574027   90.540461      87.932833   \n",
              "..                ...         ...         ...         ...            ...   \n",
              "193              0.87  846.846533  543.893969  494.844568     570.034088   \n",
              "194              0.78  877.472863  558.813016  502.912687     579.821453   \n",
              "195              0.83  899.453386  571.960431  510.095879     592.282753   \n",
              "196              0.80  920.005281  583.894158  517.391784     606.408076   \n",
              "197              0.83  943.458769  596.496022  524.747711     620.966251   \n",
              "\n",
              "     CPI_Communication  CPI_Education  \n",
              "0            83.129440      75.284466  \n",
              "1            82.889814      75.457619  \n",
              "2            81.893471      74.826847  \n",
              "3            93.937865      73.664248  \n",
              "4            97.553285      74.880442  \n",
              "..                 ...            ...  \n",
              "193         234.228948     469.899712  \n",
              "194         234.694654     476.890292  \n",
              "195         235.335975     483.719840  \n",
              "196         235.850405     490.779792  \n",
              "197         236.061986     498.242239  \n",
              "\n",
              "[198 rows x 12 columns]"
            ],
            "text/html": [
              "\n",
              "  <div id=\"df-06e85667-898d-4866-96f8-bfabc13489c8\" class=\"colab-df-container\">\n",
              "    <div>\n",
              "<style scoped>\n",
              "    .dataframe tbody tr th:only-of-type {\n",
              "        vertical-align: middle;\n",
              "    }\n",
              "\n",
              "    .dataframe tbody tr th {\n",
              "        vertical-align: top;\n",
              "    }\n",
              "\n",
              "    .dataframe thead th {\n",
              "        text-align: right;\n",
              "    }\n",
              "</style>\n",
              "<table border=\"1\" class=\"dataframe\">\n",
              "  <thead>\n",
              "    <tr style=\"text-align: right;\">\n",
              "      <th></th>\n",
              "      <th>Year</th>\n",
              "      <th>Month</th>\n",
              "      <th>Inflation_Rate</th>\n",
              "      <th>Crude Oil Price</th>\n",
              "      <th>Production</th>\n",
              "      <th>Crude Oil Export</th>\n",
              "      <th>CPI_Food</th>\n",
              "      <th>CPI_Energy</th>\n",
              "      <th>CPI_Health</th>\n",
              "      <th>CPI_Transport</th>\n",
              "      <th>CPI_Communication</th>\n",
              "      <th>CPI_Education</th>\n",
              "    </tr>\n",
              "  </thead>\n",
              "  <tbody>\n",
              "    <tr>\n",
              "      <th>0</th>\n",
              "      <td>2008</td>\n",
              "      <td>1</td>\n",
              "      <td>8.60</td>\n",
              "      <td>94.26</td>\n",
              "      <td>2.17</td>\n",
              "      <td>1.72</td>\n",
              "      <td>75.534431</td>\n",
              "      <td>84.612846</td>\n",
              "      <td>83.863139</td>\n",
              "      <td>86.530038</td>\n",
              "      <td>83.129440</td>\n",
              "      <td>75.284466</td>\n",
              "    </tr>\n",
              "    <tr>\n",
              "      <th>1</th>\n",
              "      <td>2008</td>\n",
              "      <td>2</td>\n",
              "      <td>8.00</td>\n",
              "      <td>98.15</td>\n",
              "      <td>2.08</td>\n",
              "      <td>1.63</td>\n",
              "      <td>75.154185</td>\n",
              "      <td>85.231632</td>\n",
              "      <td>83.365891</td>\n",
              "      <td>88.355236</td>\n",
              "      <td>82.889814</td>\n",
              "      <td>75.457619</td>\n",
              "    </tr>\n",
              "    <tr>\n",
              "      <th>2</th>\n",
              "      <td>2008</td>\n",
              "      <td>3</td>\n",
              "      <td>7.80</td>\n",
              "      <td>103.73</td>\n",
              "      <td>2.06</td>\n",
              "      <td>1.61</td>\n",
              "      <td>78.242523</td>\n",
              "      <td>83.251516</td>\n",
              "      <td>86.082993</td>\n",
              "      <td>84.376304</td>\n",
              "      <td>81.893471</td>\n",
              "      <td>74.826847</td>\n",
              "    </tr>\n",
              "    <tr>\n",
              "      <th>3</th>\n",
              "      <td>2008</td>\n",
              "      <td>4</td>\n",
              "      <td>8.20</td>\n",
              "      <td>116.73</td>\n",
              "      <td>1.96</td>\n",
              "      <td>1.51</td>\n",
              "      <td>79.434268</td>\n",
              "      <td>84.348830</td>\n",
              "      <td>89.445332</td>\n",
              "      <td>88.600334</td>\n",
              "      <td>93.937865</td>\n",
              "      <td>73.664248</td>\n",
              "    </tr>\n",
              "    <tr>\n",
              "      <th>4</th>\n",
              "      <td>2008</td>\n",
              "      <td>5</td>\n",
              "      <td>9.70</td>\n",
              "      <td>126.57</td>\n",
              "      <td>2.05</td>\n",
              "      <td>1.60</td>\n",
              "      <td>80.783677</td>\n",
              "      <td>85.574027</td>\n",
              "      <td>90.540461</td>\n",
              "      <td>87.932833</td>\n",
              "      <td>97.553285</td>\n",
              "      <td>74.880442</td>\n",
              "    </tr>\n",
              "    <tr>\n",
              "      <th>...</th>\n",
              "      <td>...</td>\n",
              "      <td>...</td>\n",
              "      <td>...</td>\n",
              "      <td>...</td>\n",
              "      <td>...</td>\n",
              "      <td>...</td>\n",
              "      <td>...</td>\n",
              "      <td>...</td>\n",
              "      <td>...</td>\n",
              "      <td>...</td>\n",
              "      <td>...</td>\n",
              "      <td>...</td>\n",
              "    </tr>\n",
              "    <tr>\n",
              "      <th>193</th>\n",
              "      <td>2024</td>\n",
              "      <td>2</td>\n",
              "      <td>31.70</td>\n",
              "      <td>86.08</td>\n",
              "      <td>1.32</td>\n",
              "      <td>0.87</td>\n",
              "      <td>846.846533</td>\n",
              "      <td>543.893969</td>\n",
              "      <td>494.844568</td>\n",
              "      <td>570.034088</td>\n",
              "      <td>234.228948</td>\n",
              "      <td>469.899712</td>\n",
              "    </tr>\n",
              "    <tr>\n",
              "      <th>194</th>\n",
              "      <td>2024</td>\n",
              "      <td>3</td>\n",
              "      <td>33.20</td>\n",
              "      <td>88.80</td>\n",
              "      <td>1.23</td>\n",
              "      <td>0.78</td>\n",
              "      <td>877.472863</td>\n",
              "      <td>558.813016</td>\n",
              "      <td>502.912687</td>\n",
              "      <td>579.821453</td>\n",
              "      <td>234.694654</td>\n",
              "      <td>476.890292</td>\n",
              "    </tr>\n",
              "    <tr>\n",
              "      <th>195</th>\n",
              "      <td>2024</td>\n",
              "      <td>4</td>\n",
              "      <td>33.69</td>\n",
              "      <td>93.12</td>\n",
              "      <td>1.28</td>\n",
              "      <td>0.83</td>\n",
              "      <td>899.453386</td>\n",
              "      <td>571.960431</td>\n",
              "      <td>510.095879</td>\n",
              "      <td>592.282753</td>\n",
              "      <td>235.335975</td>\n",
              "      <td>483.719840</td>\n",
              "    </tr>\n",
              "    <tr>\n",
              "      <th>196</th>\n",
              "      <td>2024</td>\n",
              "      <td>5</td>\n",
              "      <td>33.95</td>\n",
              "      <td>84.01</td>\n",
              "      <td>1.25</td>\n",
              "      <td>0.80</td>\n",
              "      <td>920.005281</td>\n",
              "      <td>583.894158</td>\n",
              "      <td>517.391784</td>\n",
              "      <td>606.408076</td>\n",
              "      <td>235.850405</td>\n",
              "      <td>490.779792</td>\n",
              "    </tr>\n",
              "    <tr>\n",
              "      <th>197</th>\n",
              "      <td>2024</td>\n",
              "      <td>6</td>\n",
              "      <td>34.19</td>\n",
              "      <td>83.64</td>\n",
              "      <td>1.28</td>\n",
              "      <td>0.83</td>\n",
              "      <td>943.458769</td>\n",
              "      <td>596.496022</td>\n",
              "      <td>524.747711</td>\n",
              "      <td>620.966251</td>\n",
              "      <td>236.061986</td>\n",
              "      <td>498.242239</td>\n",
              "    </tr>\n",
              "  </tbody>\n",
              "</table>\n",
              "<p>198 rows × 12 columns</p>\n",
              "</div>\n",
              "    <div class=\"colab-df-buttons\">\n",
              "\n",
              "  <div class=\"colab-df-container\">\n",
              "    <button class=\"colab-df-convert\" onclick=\"convertToInteractive('df-06e85667-898d-4866-96f8-bfabc13489c8')\"\n",
              "            title=\"Convert this dataframe to an interactive table.\"\n",
              "            style=\"display:none;\">\n",
              "\n",
              "  <svg xmlns=\"http://www.w3.org/2000/svg\" height=\"24px\" viewBox=\"0 -960 960 960\">\n",
              "    <path d=\"M120-120v-720h720v720H120Zm60-500h600v-160H180v160Zm220 220h160v-160H400v160Zm0 220h160v-160H400v160ZM180-400h160v-160H180v160Zm440 0h160v-160H620v160ZM180-180h160v-160H180v160Zm440 0h160v-160H620v160Z\"/>\n",
              "  </svg>\n",
              "    </button>\n",
              "\n",
              "  <style>\n",
              "    .colab-df-container {\n",
              "      display:flex;\n",
              "      gap: 12px;\n",
              "    }\n",
              "\n",
              "    .colab-df-convert {\n",
              "      background-color: #E8F0FE;\n",
              "      border: none;\n",
              "      border-radius: 50%;\n",
              "      cursor: pointer;\n",
              "      display: none;\n",
              "      fill: #1967D2;\n",
              "      height: 32px;\n",
              "      padding: 0 0 0 0;\n",
              "      width: 32px;\n",
              "    }\n",
              "\n",
              "    .colab-df-convert:hover {\n",
              "      background-color: #E2EBFA;\n",
              "      box-shadow: 0px 1px 2px rgba(60, 64, 67, 0.3), 0px 1px 3px 1px rgba(60, 64, 67, 0.15);\n",
              "      fill: #174EA6;\n",
              "    }\n",
              "\n",
              "    .colab-df-buttons div {\n",
              "      margin-bottom: 4px;\n",
              "    }\n",
              "\n",
              "    [theme=dark] .colab-df-convert {\n",
              "      background-color: #3B4455;\n",
              "      fill: #D2E3FC;\n",
              "    }\n",
              "\n",
              "    [theme=dark] .colab-df-convert:hover {\n",
              "      background-color: #434B5C;\n",
              "      box-shadow: 0px 1px 3px 1px rgba(0, 0, 0, 0.15);\n",
              "      filter: drop-shadow(0px 1px 2px rgba(0, 0, 0, 0.3));\n",
              "      fill: #FFFFFF;\n",
              "    }\n",
              "  </style>\n",
              "\n",
              "    <script>\n",
              "      const buttonEl =\n",
              "        document.querySelector('#df-06e85667-898d-4866-96f8-bfabc13489c8 button.colab-df-convert');\n",
              "      buttonEl.style.display =\n",
              "        google.colab.kernel.accessAllowed ? 'block' : 'none';\n",
              "\n",
              "      async function convertToInteractive(key) {\n",
              "        const element = document.querySelector('#df-06e85667-898d-4866-96f8-bfabc13489c8');\n",
              "        const dataTable =\n",
              "          await google.colab.kernel.invokeFunction('convertToInteractive',\n",
              "                                                    [key], {});\n",
              "        if (!dataTable) return;\n",
              "\n",
              "        const docLinkHtml = 'Like what you see? Visit the ' +\n",
              "          '<a target=\"_blank\" href=https://colab.research.google.com/notebooks/data_table.ipynb>data table notebook</a>'\n",
              "          + ' to learn more about interactive tables.';\n",
              "        element.innerHTML = '';\n",
              "        dataTable['output_type'] = 'display_data';\n",
              "        await google.colab.output.renderOutput(dataTable, element);\n",
              "        const docLink = document.createElement('div');\n",
              "        docLink.innerHTML = docLinkHtml;\n",
              "        element.appendChild(docLink);\n",
              "      }\n",
              "    </script>\n",
              "  </div>\n",
              "\n",
              "\n",
              "<div id=\"df-1197348e-2c76-43de-9354-11944778fd71\">\n",
              "  <button class=\"colab-df-quickchart\" onclick=\"quickchart('df-1197348e-2c76-43de-9354-11944778fd71')\"\n",
              "            title=\"Suggest charts\"\n",
              "            style=\"display:none;\">\n",
              "\n",
              "<svg xmlns=\"http://www.w3.org/2000/svg\" height=\"24px\"viewBox=\"0 0 24 24\"\n",
              "     width=\"24px\">\n",
              "    <g>\n",
              "        <path d=\"M19 3H5c-1.1 0-2 .9-2 2v14c0 1.1.9 2 2 2h14c1.1 0 2-.9 2-2V5c0-1.1-.9-2-2-2zM9 17H7v-7h2v7zm4 0h-2V7h2v10zm4 0h-2v-4h2v4z\"/>\n",
              "    </g>\n",
              "</svg>\n",
              "  </button>\n",
              "\n",
              "<style>\n",
              "  .colab-df-quickchart {\n",
              "      --bg-color: #E8F0FE;\n",
              "      --fill-color: #1967D2;\n",
              "      --hover-bg-color: #E2EBFA;\n",
              "      --hover-fill-color: #174EA6;\n",
              "      --disabled-fill-color: #AAA;\n",
              "      --disabled-bg-color: #DDD;\n",
              "  }\n",
              "\n",
              "  [theme=dark] .colab-df-quickchart {\n",
              "      --bg-color: #3B4455;\n",
              "      --fill-color: #D2E3FC;\n",
              "      --hover-bg-color: #434B5C;\n",
              "      --hover-fill-color: #FFFFFF;\n",
              "      --disabled-bg-color: #3B4455;\n",
              "      --disabled-fill-color: #666;\n",
              "  }\n",
              "\n",
              "  .colab-df-quickchart {\n",
              "    background-color: var(--bg-color);\n",
              "    border: none;\n",
              "    border-radius: 50%;\n",
              "    cursor: pointer;\n",
              "    display: none;\n",
              "    fill: var(--fill-color);\n",
              "    height: 32px;\n",
              "    padding: 0;\n",
              "    width: 32px;\n",
              "  }\n",
              "\n",
              "  .colab-df-quickchart:hover {\n",
              "    background-color: var(--hover-bg-color);\n",
              "    box-shadow: 0 1px 2px rgba(60, 64, 67, 0.3), 0 1px 3px 1px rgba(60, 64, 67, 0.15);\n",
              "    fill: var(--button-hover-fill-color);\n",
              "  }\n",
              "\n",
              "  .colab-df-quickchart-complete:disabled,\n",
              "  .colab-df-quickchart-complete:disabled:hover {\n",
              "    background-color: var(--disabled-bg-color);\n",
              "    fill: var(--disabled-fill-color);\n",
              "    box-shadow: none;\n",
              "  }\n",
              "\n",
              "  .colab-df-spinner {\n",
              "    border: 2px solid var(--fill-color);\n",
              "    border-color: transparent;\n",
              "    border-bottom-color: var(--fill-color);\n",
              "    animation:\n",
              "      spin 1s steps(1) infinite;\n",
              "  }\n",
              "\n",
              "  @keyframes spin {\n",
              "    0% {\n",
              "      border-color: transparent;\n",
              "      border-bottom-color: var(--fill-color);\n",
              "      border-left-color: var(--fill-color);\n",
              "    }\n",
              "    20% {\n",
              "      border-color: transparent;\n",
              "      border-left-color: var(--fill-color);\n",
              "      border-top-color: var(--fill-color);\n",
              "    }\n",
              "    30% {\n",
              "      border-color: transparent;\n",
              "      border-left-color: var(--fill-color);\n",
              "      border-top-color: var(--fill-color);\n",
              "      border-right-color: var(--fill-color);\n",
              "    }\n",
              "    40% {\n",
              "      border-color: transparent;\n",
              "      border-right-color: var(--fill-color);\n",
              "      border-top-color: var(--fill-color);\n",
              "    }\n",
              "    60% {\n",
              "      border-color: transparent;\n",
              "      border-right-color: var(--fill-color);\n",
              "    }\n",
              "    80% {\n",
              "      border-color: transparent;\n",
              "      border-right-color: var(--fill-color);\n",
              "      border-bottom-color: var(--fill-color);\n",
              "    }\n",
              "    90% {\n",
              "      border-color: transparent;\n",
              "      border-bottom-color: var(--fill-color);\n",
              "    }\n",
              "  }\n",
              "</style>\n",
              "\n",
              "  <script>\n",
              "    async function quickchart(key) {\n",
              "      const quickchartButtonEl =\n",
              "        document.querySelector('#' + key + ' button');\n",
              "      quickchartButtonEl.disabled = true;  // To prevent multiple clicks.\n",
              "      quickchartButtonEl.classList.add('colab-df-spinner');\n",
              "      try {\n",
              "        const charts = await google.colab.kernel.invokeFunction(\n",
              "            'suggestCharts', [key], {});\n",
              "      } catch (error) {\n",
              "        console.error('Error during call to suggestCharts:', error);\n",
              "      }\n",
              "      quickchartButtonEl.classList.remove('colab-df-spinner');\n",
              "      quickchartButtonEl.classList.add('colab-df-quickchart-complete');\n",
              "    }\n",
              "    (() => {\n",
              "      let quickchartButtonEl =\n",
              "        document.querySelector('#df-1197348e-2c76-43de-9354-11944778fd71 button');\n",
              "      quickchartButtonEl.style.display =\n",
              "        google.colab.kernel.accessAllowed ? 'block' : 'none';\n",
              "    })();\n",
              "  </script>\n",
              "</div>\n",
              "\n",
              "  <div id=\"id_b5bcbaad-e677-488b-93ed-7c32e098dccc\">\n",
              "    <style>\n",
              "      .colab-df-generate {\n",
              "        background-color: #E8F0FE;\n",
              "        border: none;\n",
              "        border-radius: 50%;\n",
              "        cursor: pointer;\n",
              "        display: none;\n",
              "        fill: #1967D2;\n",
              "        height: 32px;\n",
              "        padding: 0 0 0 0;\n",
              "        width: 32px;\n",
              "      }\n",
              "\n",
              "      .colab-df-generate:hover {\n",
              "        background-color: #E2EBFA;\n",
              "        box-shadow: 0px 1px 2px rgba(60, 64, 67, 0.3), 0px 1px 3px 1px rgba(60, 64, 67, 0.15);\n",
              "        fill: #174EA6;\n",
              "      }\n",
              "\n",
              "      [theme=dark] .colab-df-generate {\n",
              "        background-color: #3B4455;\n",
              "        fill: #D2E3FC;\n",
              "      }\n",
              "\n",
              "      [theme=dark] .colab-df-generate:hover {\n",
              "        background-color: #434B5C;\n",
              "        box-shadow: 0px 1px 3px 1px rgba(0, 0, 0, 0.15);\n",
              "        filter: drop-shadow(0px 1px 2px rgba(0, 0, 0, 0.3));\n",
              "        fill: #FFFFFF;\n",
              "      }\n",
              "    </style>\n",
              "    <button class=\"colab-df-generate\" onclick=\"generateWithVariable('df')\"\n",
              "            title=\"Generate code using this dataframe.\"\n",
              "            style=\"display:none;\">\n",
              "\n",
              "  <svg xmlns=\"http://www.w3.org/2000/svg\" height=\"24px\"viewBox=\"0 0 24 24\"\n",
              "       width=\"24px\">\n",
              "    <path d=\"M7,19H8.4L18.45,9,17,7.55,7,17.6ZM5,21V16.75L18.45,3.32a2,2,0,0,1,2.83,0l1.4,1.43a1.91,1.91,0,0,1,.58,1.4,1.91,1.91,0,0,1-.58,1.4L9.25,21ZM18.45,9,17,7.55Zm-12,3A5.31,5.31,0,0,0,4.9,8.1,5.31,5.31,0,0,0,1,6.5,5.31,5.31,0,0,0,4.9,4.9,5.31,5.31,0,0,0,6.5,1,5.31,5.31,0,0,0,8.1,4.9,5.31,5.31,0,0,0,12,6.5,5.46,5.46,0,0,0,6.5,12Z\"/>\n",
              "  </svg>\n",
              "    </button>\n",
              "    <script>\n",
              "      (() => {\n",
              "      const buttonEl =\n",
              "        document.querySelector('#id_b5bcbaad-e677-488b-93ed-7c32e098dccc button.colab-df-generate');\n",
              "      buttonEl.style.display =\n",
              "        google.colab.kernel.accessAllowed ? 'block' : 'none';\n",
              "\n",
              "      buttonEl.onclick = () => {\n",
              "        google.colab.notebook.generateWithVariable('df');\n",
              "      }\n",
              "      })();\n",
              "    </script>\n",
              "  </div>\n",
              "\n",
              "    </div>\n",
              "  </div>\n"
            ],
            "application/vnd.google.colaboratory.intrinsic+json": {
              "type": "dataframe",
              "variable_name": "df",
              "summary": "{\n  \"name\": \"df\",\n  \"rows\": 198,\n  \"fields\": [\n    {\n      \"column\": \"Year\",\n      \"properties\": {\n        \"dtype\": \"number\",\n        \"std\": 4,\n        \"min\": 2008,\n        \"max\": 2024,\n        \"num_unique_values\": 17,\n        \"samples\": [\n          2008,\n          2009,\n          2013\n        ],\n        \"semantic_type\": \"\",\n        \"description\": \"\"\n      }\n    },\n    {\n      \"column\": \"Month\",\n      \"properties\": {\n        \"dtype\": \"number\",\n        \"std\": 3,\n        \"min\": 1,\n        \"max\": 12,\n        \"num_unique_values\": 12,\n        \"samples\": [\n          11,\n          10,\n          1\n        ],\n        \"semantic_type\": \"\",\n        \"description\": \"\"\n      }\n    },\n    {\n      \"column\": \"Inflation_Rate\",\n      \"properties\": {\n        \"dtype\": \"number\",\n        \"std\": 5.456105731458888,\n        \"min\": 7.7,\n        \"max\": 34.19,\n        \"num_unique_values\": 152,\n        \"samples\": [\n          18.72,\n          31.7,\n          11.02\n        ],\n        \"semantic_type\": \"\",\n        \"description\": \"\"\n      }\n    },\n    {\n      \"column\": \"Crude Oil Price\",\n      \"properties\": {\n        \"dtype\": \"number\",\n        \"std\": 26.58637951318266,\n        \"min\": 14.28,\n        \"max\": 138.74,\n        \"num_unique_values\": 194,\n        \"samples\": [\n          65.27,\n          60.02,\n          65.62\n        ],\n        \"semantic_type\": \"\",\n        \"description\": \"\"\n      }\n    },\n    {\n      \"column\": \"Production\",\n      \"properties\": {\n        \"dtype\": \"number\",\n        \"std\": 0.4123414782251126,\n        \"min\": 0.94,\n        \"max\": 2.88,\n        \"num_unique_values\": 100,\n        \"samples\": [\n          1.2,\n          1.5,\n          1.69\n        ],\n        \"semantic_type\": \"\",\n        \"description\": \"\"\n      }\n    },\n    {\n      \"column\": \"Crude Oil Export\",\n      \"properties\": {\n        \"dtype\": \"number\",\n        \"std\": 0.41234147822511263,\n        \"min\": 0.49,\n        \"max\": 2.43,\n        \"num_unique_values\": 100,\n        \"samples\": [\n          0.75,\n          1.05,\n          1.24\n        ],\n        \"semantic_type\": \"\",\n        \"description\": \"\"\n      }\n    },\n    {\n      \"column\": \"CPI_Food\",\n      \"properties\": {\n        \"dtype\": \"number\",\n        \"std\": 200.0007540292498,\n        \"min\": 75.15418502,\n        \"max\": 943.458769,\n        \"num_unique_values\": 198,\n        \"samples\": [\n          147.4595119,\n          250.0279855,\n          93.49872479\n        ],\n        \"semantic_type\": \"\",\n        \"description\": \"\"\n      }\n    },\n    {\n      \"column\": \"CPI_Energy\",\n      \"properties\": {\n        \"dtype\": \"number\",\n        \"std\": 122.47890600909196,\n        \"min\": 83.25151603,\n        \"max\": 596.4960221,\n        \"num_unique_values\": 198,\n        \"samples\": [\n          157.9921298,\n          248.5476656,\n          94.34016748\n        ],\n        \"semantic_type\": \"\",\n        \"description\": \"\"\n      }\n    },\n    {\n      \"column\": \"CPI_Health\",\n      \"properties\": {\n        \"dtype\": \"number\",\n        \"std\": 107.9716708764683,\n        \"min\": 83.3658912,\n        \"max\": 524.7477114,\n        \"num_unique_values\": 198,\n        \"samples\": [\n          139.3994174,\n          198.335966,\n          99.15349553\n        ],\n        \"semantic_type\": \"\",\n        \"description\": \"\"\n      }\n    },\n    {\n      \"column\": \"CPI_Transport\",\n      \"properties\": {\n        \"dtype\": \"number\",\n        \"std\": 130.4670476378838,\n        \"min\": 84.37630371,\n        \"max\": 620.9662515,\n        \"num_unique_values\": 198,\n        \"samples\": [\n          144.9769944,\n          222.676474,\n          95.96370463\n        ],\n        \"semantic_type\": \"\",\n        \"description\": \"\"\n      }\n    },\n    {\n      \"column\": \"CPI_Communication\",\n      \"properties\": {\n        \"dtype\": \"number\",\n        \"std\": 42.279733650441976,\n        \"min\": 81.89347122,\n        \"max\": 236.0619864,\n        \"num_unique_values\": 196,\n        \"samples\": [\n          161.3057334,\n          138.8620268,\n          99.44087106\n        ],\n        \"semantic_type\": \"\",\n        \"description\": \"\"\n      }\n    },\n    {\n      \"column\": \"CPI_Education\",\n      \"properties\": {\n        \"dtype\": \"number\",\n        \"std\": 108.0702925059867,\n        \"min\": 73.66424802,\n        \"max\": 498.2422389,\n        \"num_unique_values\": 198,\n        \"samples\": [\n          133.3261438,\n          209.5678374,\n          92.26170844\n        ],\n        \"semantic_type\": \"\",\n        \"description\": \"\"\n      }\n    }\n  ]\n}"
            }
          },
          "metadata": {},
          "execution_count": 51
        }
      ]
    },
    {
      "cell_type": "markdown",
      "source": [
        "##**Examinig the Data**##"
      ],
      "metadata": {
        "id": "YPPwAS4R6B8T"
      }
    },
    {
      "cell_type": "code",
      "source": [
        "df.info()"
      ],
      "metadata": {
        "colab": {
          "base_uri": "https://localhost:8080/"
        },
        "id": "fVSgLmoc6LWy",
        "outputId": "e2768828-abbe-4d3e-e797-86beb9778760"
      },
      "execution_count": null,
      "outputs": [
        {
          "output_type": "stream",
          "name": "stdout",
          "text": [
            "<class 'pandas.core.frame.DataFrame'>\n",
            "RangeIndex: 198 entries, 0 to 197\n",
            "Data columns (total 12 columns):\n",
            " #   Column             Non-Null Count  Dtype  \n",
            "---  ------             --------------  -----  \n",
            " 0   Year               198 non-null    int64  \n",
            " 1   Month              198 non-null    int64  \n",
            " 2   Inflation_Rate     198 non-null    float64\n",
            " 3   Crude Oil Price    197 non-null    float64\n",
            " 4   Production         197 non-null    float64\n",
            " 5   Crude Oil Export   197 non-null    float64\n",
            " 6   CPI_Food           198 non-null    float64\n",
            " 7   CPI_Energy         198 non-null    float64\n",
            " 8   CPI_Health         198 non-null    float64\n",
            " 9   CPI_Transport      198 non-null    float64\n",
            " 10  CPI_Communication  198 non-null    float64\n",
            " 11  CPI_Education      198 non-null    float64\n",
            "dtypes: float64(10), int64(2)\n",
            "memory usage: 18.7 KB\n"
          ]
        }
      ]
    },
    {
      "cell_type": "markdown",
      "source": [
        "##**Removing Irregularities**##\n"
      ],
      "metadata": {
        "id": "KAjHfPTp69fw"
      }
    },
    {
      "cell_type": "markdown",
      "source": [
        "##**Adressing null values**##"
      ],
      "metadata": {
        "id": "xKB1a3I07H92"
      }
    },
    {
      "cell_type": "code",
      "source": [
        "# check for the null value\n",
        "df.isnull().any(axis=1).sum()\n",
        "print(df.isna().sum())"
      ],
      "metadata": {
        "colab": {
          "base_uri": "https://localhost:8080/"
        },
        "id": "nEO3F3xx7RVm",
        "outputId": "aa383735-2494-4234-d9a1-d0430f90aa7b"
      },
      "execution_count": null,
      "outputs": [
        {
          "output_type": "stream",
          "name": "stdout",
          "text": [
            "Year                 0\n",
            "Month                0\n",
            "Inflation_Rate       0\n",
            "Crude Oil Price      1\n",
            "Production           1\n",
            "Crude Oil Export     1\n",
            "CPI_Food             0\n",
            "CPI_Energy           0\n",
            "CPI_Health           0\n",
            "CPI_Transport        0\n",
            "CPI_Communication    0\n",
            "CPI_Education        0\n",
            "dtype: int64\n"
          ]
        }
      ]
    },
    {
      "cell_type": "code",
      "source": [
        "df['Crude Oil Price'] = df['Crude Oil Price'].fillna(df['Crude Oil Price'].mean())\n",
        "df['Production'] = df['Production'].fillna(df['Production'].median())\n",
        "df['Crude Oil Export'] = df['Crude Oil Export'].fillna(df['Crude Oil Export'].mean())\n",
        "df.info()"
      ],
      "metadata": {
        "colab": {
          "base_uri": "https://localhost:8080/"
        },
        "id": "2pW-V3qr7uga",
        "outputId": "08018f81-6f07-40e7-f39b-6af4c997bfa4"
      },
      "execution_count": null,
      "outputs": [
        {
          "output_type": "stream",
          "name": "stdout",
          "text": [
            "<class 'pandas.core.frame.DataFrame'>\n",
            "RangeIndex: 198 entries, 0 to 197\n",
            "Data columns (total 12 columns):\n",
            " #   Column             Non-Null Count  Dtype  \n",
            "---  ------             --------------  -----  \n",
            " 0   Year               198 non-null    int64  \n",
            " 1   Month              198 non-null    int64  \n",
            " 2   Inflation_Rate     198 non-null    float64\n",
            " 3   Crude Oil Price    198 non-null    float64\n",
            " 4   Production         198 non-null    float64\n",
            " 5   Crude Oil Export   198 non-null    float64\n",
            " 6   CPI_Food           198 non-null    float64\n",
            " 7   CPI_Energy         198 non-null    float64\n",
            " 8   CPI_Health         198 non-null    float64\n",
            " 9   CPI_Transport      198 non-null    float64\n",
            " 10  CPI_Communication  198 non-null    float64\n",
            " 11  CPI_Education      198 non-null    float64\n",
            "dtypes: float64(10), int64(2)\n",
            "memory usage: 18.7 KB\n"
          ]
        }
      ]
    },
    {
      "cell_type": "code",
      "source": [
        "df.info()"
      ],
      "metadata": {
        "colab": {
          "base_uri": "https://localhost:8080/"
        },
        "id": "Q5qRfB4476HS",
        "outputId": "8fb1c6c4-148d-4fe9-a575-2e74efa1b9a3"
      },
      "execution_count": null,
      "outputs": [
        {
          "output_type": "stream",
          "name": "stdout",
          "text": [
            "<class 'pandas.core.frame.DataFrame'>\n",
            "RangeIndex: 198 entries, 0 to 197\n",
            "Data columns (total 12 columns):\n",
            " #   Column             Non-Null Count  Dtype  \n",
            "---  ------             --------------  -----  \n",
            " 0   Year               198 non-null    int64  \n",
            " 1   Month              198 non-null    int64  \n",
            " 2   Inflation_Rate     198 non-null    float64\n",
            " 3   Crude Oil Price    198 non-null    float64\n",
            " 4   Production         198 non-null    float64\n",
            " 5   Crude Oil Export   198 non-null    float64\n",
            " 6   CPI_Food           198 non-null    float64\n",
            " 7   CPI_Energy         198 non-null    float64\n",
            " 8   CPI_Health         198 non-null    float64\n",
            " 9   CPI_Transport      198 non-null    float64\n",
            " 10  CPI_Communication  198 non-null    float64\n",
            " 11  CPI_Education      198 non-null    float64\n",
            "dtypes: float64(10), int64(2)\n",
            "memory usage: 18.7 KB\n"
          ]
        }
      ]
    },
    {
      "cell_type": "markdown",
      "source": [
        "###**EXPLORATORY DATA ANALYSIS**##"
      ],
      "metadata": {
        "id": "WBVYK3gM8ptV"
      }
    },
    {
      "cell_type": "code",
      "source": [
        "df[\"Inflation_Rate\"]"
      ],
      "metadata": {
        "colab": {
          "base_uri": "https://localhost:8080/",
          "height": 458
        },
        "id": "O84sad7A80wL",
        "outputId": "99778830-73e0-44fb-de09-3390bb70f2b3"
      },
      "execution_count": null,
      "outputs": [
        {
          "output_type": "execute_result",
          "data": {
            "text/plain": [
              "0       8.60\n",
              "1       8.00\n",
              "2       7.80\n",
              "3       8.20\n",
              "4       9.70\n",
              "       ...  \n",
              "193    31.70\n",
              "194    33.20\n",
              "195    33.69\n",
              "196    33.95\n",
              "197    34.19\n",
              "Name: Inflation_Rate, Length: 198, dtype: float64"
            ],
            "text/html": [
              "<div>\n",
              "<style scoped>\n",
              "    .dataframe tbody tr th:only-of-type {\n",
              "        vertical-align: middle;\n",
              "    }\n",
              "\n",
              "    .dataframe tbody tr th {\n",
              "        vertical-align: top;\n",
              "    }\n",
              "\n",
              "    .dataframe thead th {\n",
              "        text-align: right;\n",
              "    }\n",
              "</style>\n",
              "<table border=\"1\" class=\"dataframe\">\n",
              "  <thead>\n",
              "    <tr style=\"text-align: right;\">\n",
              "      <th></th>\n",
              "      <th>Inflation_Rate</th>\n",
              "    </tr>\n",
              "  </thead>\n",
              "  <tbody>\n",
              "    <tr>\n",
              "      <th>0</th>\n",
              "      <td>8.60</td>\n",
              "    </tr>\n",
              "    <tr>\n",
              "      <th>1</th>\n",
              "      <td>8.00</td>\n",
              "    </tr>\n",
              "    <tr>\n",
              "      <th>2</th>\n",
              "      <td>7.80</td>\n",
              "    </tr>\n",
              "    <tr>\n",
              "      <th>3</th>\n",
              "      <td>8.20</td>\n",
              "    </tr>\n",
              "    <tr>\n",
              "      <th>4</th>\n",
              "      <td>9.70</td>\n",
              "    </tr>\n",
              "    <tr>\n",
              "      <th>...</th>\n",
              "      <td>...</td>\n",
              "    </tr>\n",
              "    <tr>\n",
              "      <th>193</th>\n",
              "      <td>31.70</td>\n",
              "    </tr>\n",
              "    <tr>\n",
              "      <th>194</th>\n",
              "      <td>33.20</td>\n",
              "    </tr>\n",
              "    <tr>\n",
              "      <th>195</th>\n",
              "      <td>33.69</td>\n",
              "    </tr>\n",
              "    <tr>\n",
              "      <th>196</th>\n",
              "      <td>33.95</td>\n",
              "    </tr>\n",
              "    <tr>\n",
              "      <th>197</th>\n",
              "      <td>34.19</td>\n",
              "    </tr>\n",
              "  </tbody>\n",
              "</table>\n",
              "<p>198 rows × 1 columns</p>\n",
              "</div><br><label><b>dtype:</b> float64</label>"
            ]
          },
          "metadata": {},
          "execution_count": 56
        }
      ]
    },
    {
      "cell_type": "code",
      "source": [
        "df[\"Inflation_Rate\"].describe()"
      ],
      "metadata": {
        "colab": {
          "base_uri": "https://localhost:8080/",
          "height": 335
        },
        "id": "QPuQJz7i9lso",
        "outputId": "bc2ca47a-25f2-41b9-d75f-9209a6c78cb8"
      },
      "execution_count": null,
      "outputs": [
        {
          "output_type": "execute_result",
          "data": {
            "text/plain": [
              "count    198.000000\n",
              "mean      14.068232\n",
              "std        5.456106\n",
              "min        7.700000\n",
              "25%       10.625000\n",
              "50%       12.735000\n",
              "75%       16.040000\n",
              "max       34.190000\n",
              "Name: Inflation_Rate, dtype: float64"
            ],
            "text/html": [
              "<div>\n",
              "<style scoped>\n",
              "    .dataframe tbody tr th:only-of-type {\n",
              "        vertical-align: middle;\n",
              "    }\n",
              "\n",
              "    .dataframe tbody tr th {\n",
              "        vertical-align: top;\n",
              "    }\n",
              "\n",
              "    .dataframe thead th {\n",
              "        text-align: right;\n",
              "    }\n",
              "</style>\n",
              "<table border=\"1\" class=\"dataframe\">\n",
              "  <thead>\n",
              "    <tr style=\"text-align: right;\">\n",
              "      <th></th>\n",
              "      <th>Inflation_Rate</th>\n",
              "    </tr>\n",
              "  </thead>\n",
              "  <tbody>\n",
              "    <tr>\n",
              "      <th>count</th>\n",
              "      <td>198.000000</td>\n",
              "    </tr>\n",
              "    <tr>\n",
              "      <th>mean</th>\n",
              "      <td>14.068232</td>\n",
              "    </tr>\n",
              "    <tr>\n",
              "      <th>std</th>\n",
              "      <td>5.456106</td>\n",
              "    </tr>\n",
              "    <tr>\n",
              "      <th>min</th>\n",
              "      <td>7.700000</td>\n",
              "    </tr>\n",
              "    <tr>\n",
              "      <th>25%</th>\n",
              "      <td>10.625000</td>\n",
              "    </tr>\n",
              "    <tr>\n",
              "      <th>50%</th>\n",
              "      <td>12.735000</td>\n",
              "    </tr>\n",
              "    <tr>\n",
              "      <th>75%</th>\n",
              "      <td>16.040000</td>\n",
              "    </tr>\n",
              "    <tr>\n",
              "      <th>max</th>\n",
              "      <td>34.190000</td>\n",
              "    </tr>\n",
              "  </tbody>\n",
              "</table>\n",
              "</div><br><label><b>dtype:</b> float64</label>"
            ]
          },
          "metadata": {},
          "execution_count": 57
        }
      ]
    },
    {
      "cell_type": "code",
      "source": [
        "plt.boxplot(df[\"Inflation_Rate\"])\n",
        "plt.title(\"Boxplot of Inflation_Rate Value\")\n",
        "plt.ylabel(\"Inflation_Rate\")\n",
        "plt.show()"
      ],
      "metadata": {
        "colab": {
          "base_uri": "https://localhost:8080/",
          "height": 452
        },
        "id": "Jg31ggD2-JvL",
        "outputId": "092b3c69-9641-4db5-c1c0-c0132bea7d47"
      },
      "execution_count": null,
      "outputs": [
        {
          "output_type": "display_data",
          "data": {
            "text/plain": [
              "<Figure size 640x480 with 1 Axes>"
            ],
            "image/png": "[encoded data removed]"
          },
          "metadata": {}
        }
      ]
    },
    {
      "cell_type": "markdown",
      "source": [
        "##**Addressing Outliers**##"
      ],
      "metadata": {
        "id": "vZdm_oaC-xG7"
      }
    },
    {
      "cell_type": "code",
      "source": [
        "Q1 = df[\"Inflation_Rate\"].quantile(0.25)\n",
        "Q3 = df[\"Inflation_Rate\"].quantile(0.75)\n",
        "print(Q1,Q3)\n",
        "IQR = Q3 - Q1\n",
        "print(IQR)\n",
        "\n",
        "lower_bound = Q1 - 1.5 * IQR\n",
        "upper_bound = Q3 + 1.5 * IQR\n",
        "print(lower_bound)\n",
        "print(upper_bound)"
      ],
      "metadata": {
        "colab": {
          "base_uri": "https://localhost:8080/"
        },
        "id": "YECKLwSU_A4Y",
        "outputId": "7a77c0ea-4ef8-4742-a686-f484e4f0a4b4"
      },
      "execution_count": null,
      "outputs": [
        {
          "output_type": "stream",
          "name": "stdout",
          "text": [
            "10.625 16.04\n",
            "5.414999999999999\n",
            "2.5025000000000013\n",
            "24.162499999999998\n"
          ]
        }
      ]
    },
    {
      "cell_type": "code",
      "source": [
        "df[\"Inflation_Rate\"] = np.where(df[\"Inflation_Rate\"] > upper_bound, upper_bound, df[\"Inflation_Rate\"])"
      ],
      "metadata": {
        "id": "0YVODEhL_RzB"
      },
      "execution_count": null,
      "outputs": []
    },
    {
      "cell_type": "code",
      "source": [
        "plt.boxplot(df[\"Inflation_Rate\"])\n",
        "plt.title(\"Boxplot of Inflation_Rate Value\")\n",
        "plt.ylabel(\"Inflation_Rate\")\n",
        "plt.show()"
      ],
      "metadata": {
        "colab": {
          "base_uri": "https://localhost:8080/",
          "height": 452
        },
        "id": "uUHGySB3_t29",
        "outputId": "7b0660a7-069f-4466-9e2a-90f647a368e6"
      },
      "execution_count": null,
      "outputs": [
        {
          "output_type": "display_data",
          "data": {
            "text/plain": [
              "<Figure size 640x480 with 1 Axes>"
            ],
            "image/png": "[encoded data removed]"
          },
          "metadata": {}
        }
      ]
    },
    {
      "cell_type": "markdown",
      "source": [
        "##**Identifying Relevant Columns**##"
      ],
      "metadata": {
        "id": "Dj9uQEQtAG80"
      }
    },
    {
      "cell_type": "code",
      "source": [
        "df[[\"Inflation_Rate\",\"Crude Oil Price\",\"Production\",\"Crude Oil Export\",\"CPI_Food\",\"CPI_Energy\",\"CPI_Transport\",\"Year\",\"Month\"]].corr()\n",
        "\n"
      ],
      "metadata": {
        "colab": {
          "base_uri": "https://localhost:8080/",
          "height": 331
        },
        "id": "YR6szDtLARxB",
        "outputId": "9050f2ff-b618-4e49-971c-d0f1783d0547"
      },
      "execution_count": null,
      "outputs": [
        {
          "output_type": "execute_result",
          "data": {
            "text/plain": [
              "                  Inflation_Rate  Crude Oil Price  Production  \\\n",
              "Inflation_Rate          1.000000        -0.141145   -0.745936   \n",
              "Crude Oil Price        -0.141145         1.000000    0.159421   \n",
              "Production             -0.745936         0.159421    1.000000   \n",
              "Crude Oil Export       -0.748878         0.159455    0.999789   \n",
              "CPI_Food                0.800314        -0.079887   -0.837206   \n",
              "CPI_Energy              0.768919        -0.159344   -0.846849   \n",
              "CPI_Transport           0.788999        -0.113606   -0.847551   \n",
              "Year                    0.632385        -0.264881   -0.815089   \n",
              "Month                   0.001738        -0.026655   -0.024292   \n",
              "\n",
              "                  Crude Oil Export  CPI_Food  CPI_Energy  CPI_Transport  \\\n",
              "Inflation_Rate           -0.748878  0.800314    0.768919       0.788999   \n",
              "Crude Oil Price           0.159455 -0.079887   -0.159344      -0.113606   \n",
              "Production                0.999789 -0.837206   -0.846849      -0.847551   \n",
              "Crude Oil Export          1.000000 -0.840051   -0.849546      -0.850473   \n",
              "CPI_Food                 -0.840051  1.000000    0.984782       0.995994   \n",
              "CPI_Energy               -0.849546  0.984782    1.000000       0.995091   \n",
              "CPI_Transport            -0.850473  0.995994    0.995091       1.000000   \n",
              "Year                     -0.817486  0.896639    0.953703       0.928694   \n",
              "Month                    -0.023275 -0.012418   -0.003494      -0.006995   \n",
              "\n",
              "                      Year     Month  \n",
              "Inflation_Rate    0.632385  0.001738  \n",
              "Crude Oil Price  -0.264881 -0.026655  \n",
              "Production       -0.815089 -0.024292  \n",
              "Crude Oil Export -0.817486 -0.023275  \n",
              "CPI_Food          0.896639 -0.012418  \n",
              "CPI_Energy        0.953703 -0.003494  \n",
              "CPI_Transport     0.928694 -0.006995  \n",
              "Year              1.000000 -0.045545  \n",
              "Month            -0.045545  1.000000  "
            ],
            "text/html": [
              "\n",
              "  <div id=\"df-49352159-1d2b-494b-9dd3-f69dbcc04c0c\" class=\"colab-df-container\">\n",
              "    <div>\n",
              "<style scoped>\n",
              "    .dataframe tbody tr th:only-of-type {\n",
              "        vertical-align: middle;\n",
              "    }\n",
              "\n",
              "    .dataframe tbody tr th {\n",
              "        vertical-align: top;\n",
              "    }\n",
              "\n",
              "    .dataframe thead th {\n",
              "        text-align: right;\n",
              "    }\n",
              "</style>\n",
              "<table border=\"1\" class=\"dataframe\">\n",
              "  <thead>\n",
              "    <tr style=\"text-align: right;\">\n",
              "      <th></th>\n",
              "      <th>Inflation_Rate</th>\n",
              "      <th>Crude Oil Price</th>\n",
              "      <th>Production</th>\n",
              "      <th>Crude Oil Export</th>\n",
              "      <th>CPI_Food</th>\n",
              "      <th>CPI_Energy</th>\n",
              "      <th>CPI_Transport</th>\n",
              "      <th>Year</th>\n",
              "      <th>Month</th>\n",
              "    </tr>\n",
              "  </thead>\n",
              "  <tbody>\n",
              "    <tr>\n",
              "      <th>Inflation_Rate</th>\n",
              "      <td>1.000000</td>\n",
              "      <td>-0.141145</td>\n",
              "      <td>-0.745936</td>\n",
              "      <td>-0.748878</td>\n",
              "      <td>0.800314</td>\n",
              "      <td>0.768919</td>\n",
              "      <td>0.788999</td>\n",
              "      <td>0.632385</td>\n",
              "      <td>0.001738</td>\n",
              "    </tr>\n",
              "    <tr>\n",
              "      <th>Crude Oil Price</th>\n",
              "      <td>-0.141145</td>\n",
              "      <td>1.000000</td>\n",
              "      <td>0.159421</td>\n",
              "      <td>0.159455</td>\n",
              "      <td>-0.079887</td>\n",
              "      <td>-0.159344</td>\n",
              "      <td>-0.113606</td>\n",
              "      <td>-0.264881</td>\n",
              "      <td>-0.026655</td>\n",
              "    </tr>\n",
              "    <tr>\n",
              "      <th>Production</th>\n",
              "      <td>-0.745936</td>\n",
              "      <td>0.159421</td>\n",
              "      <td>1.000000</td>\n",
              "      <td>0.999789</td>\n",
              "      <td>-0.837206</td>\n",
              "      <td>-0.846849</td>\n",
              "      <td>-0.847551</td>\n",
              "      <td>-0.815089</td>\n",
              "      <td>-0.024292</td>\n",
              "    </tr>\n",
              "    <tr>\n",
              "      <th>Crude Oil Export</th>\n",
              "      <td>-0.748878</td>\n",
              "      <td>0.159455</td>\n",
              "      <td>0.999789</td>\n",
              "      <td>1.000000</td>\n",
              "      <td>-0.840051</td>\n",
              "      <td>-0.849546</td>\n",
              "      <td>-0.850473</td>\n",
              "      <td>-0.817486</td>\n",
              "      <td>-0.023275</td>\n",
              "    </tr>\n",
              "    <tr>\n",
              "      <th>CPI_Food</th>\n",
              "      <td>0.800314</td>\n",
              "      <td>-0.079887</td>\n",
              "      <td>-0.837206</td>\n",
              "      <td>-0.840051</td>\n",
              "      <td>1.000000</td>\n",
              "      <td>0.984782</td>\n",
              "      <td>0.995994</td>\n",
              "      <td>0.896639</td>\n",
              "      <td>-0.012418</td>\n",
              "    </tr>\n",
              "    <tr>\n",
              "      <th>CPI_Energy</th>\n",
              "      <td>0.768919</td>\n",
              "      <td>-0.159344</td>\n",
              "      <td>-0.846849</td>\n",
              "      <td>-0.849546</td>\n",
              "      <td>0.984782</td>\n",
              "      <td>1.000000</td>\n",
              "      <td>0.995091</td>\n",
              "      <td>0.953703</td>\n",
              "      <td>-0.003494</td>\n",
              "    </tr>\n",
              "    <tr>\n",
              "      <th>CPI_Transport</th>\n",
              "      <td>0.788999</td>\n",
              "      <td>-0.113606</td>\n",
              "      <td>-0.847551</td>\n",
              "      <td>-0.850473</td>\n",
              "      <td>0.995994</td>\n",
              "      <td>0.995091</td>\n",
              "      <td>1.000000</td>\n",
              "      <td>0.928694</td>\n",
              "      <td>-0.006995</td>\n",
              "    </tr>\n",
              "    <tr>\n",
              "      <th>Year</th>\n",
              "      <td>0.632385</td>\n",
              "      <td>-0.264881</td>\n",
              "      <td>-0.815089</td>\n",
              "      <td>-0.817486</td>\n",
              "      <td>0.896639</td>\n",
              "      <td>0.953703</td>\n",
              "      <td>0.928694</td>\n",
              "      <td>1.000000</td>\n",
              "      <td>-0.045545</td>\n",
              "    </tr>\n",
              "    <tr>\n",
              "      <th>Month</th>\n",
              "      <td>0.001738</td>\n",
              "      <td>-0.026655</td>\n",
              "      <td>-0.024292</td>\n",
              "      <td>-0.023275</td>\n",
              "      <td>-0.012418</td>\n",
              "      <td>-0.003494</td>\n",
              "      <td>-0.006995</td>\n",
              "      <td>-0.045545</td>\n",
              "      <td>1.000000</td>\n",
              "    </tr>\n",
              "  </tbody>\n",
              "</table>\n",
              "</div>\n",
              "    <div class=\"colab-df-buttons\">\n",
              "\n",
              "  <div class=\"colab-df-container\">\n",
              "    <button class=\"colab-df-convert\" onclick=\"convertToInteractive('df-49352159-1d2b-494b-9dd3-f69dbcc04c0c')\"\n",
              "            title=\"Convert this dataframe to an interactive table.\"\n",
              "            style=\"display:none;\">\n",
              "\n",
              "  <svg xmlns=\"http://www.w3.org/2000/svg\" height=\"24px\" viewBox=\"0 -960 960 960\">\n",
              "    <path d=\"M120-120v-720h720v720H120Zm60-500h600v-160H180v160Zm220 220h160v-160H400v160Zm0 220h160v-160H400v160ZM180-400h160v-160H180v160Zm440 0h160v-160H620v160ZM180-180h160v-160H180v160Zm440 0h160v-160H620v160Z\"/>\n",
              "  </svg>\n",
              "    </button>\n",
              "\n",
              "  <style>\n",
              "    .colab-df-container {\n",
              "      display:flex;\n",
              "      gap: 12px;\n",
              "    }\n",
              "\n",
              "    .colab-df-convert {\n",
              "      background-color: #E8F0FE;\n",
              "      border: none;\n",
              "      border-radius: 50%;\n",
              "      cursor: pointer;\n",
              "      display: none;\n",
              "      fill: #1967D2;\n",
              "      height: 32px;\n",
              "      padding: 0 0 0 0;\n",
              "      width: 32px;\n",
              "    }\n",
              "\n",
              "    .colab-df-convert:hover {\n",
              "      background-color: #E2EBFA;\n",
              "      box-shadow: 0px 1px 2px rgba(60, 64, 67, 0.3), 0px 1px 3px 1px rgba(60, 64, 67, 0.15);\n",
              "      fill: #174EA6;\n",
              "    }\n",
              "\n",
              "    .colab-df-buttons div {\n",
              "      margin-bottom: 4px;\n",
              "    }\n",
              "\n",
              "    [theme=dark] .colab-df-convert {\n",
              "      background-color: #3B4455;\n",
              "      fill: #D2E3FC;\n",
              "    }\n",
              "\n",
              "    [theme=dark] .colab-df-convert:hover {\n",
              "      background-color: #434B5C;\n",
              "      box-shadow: 0px 1px 3px 1px rgba(0, 0, 0, 0.15);\n",
              "      filter: drop-shadow(0px 1px 2px rgba(0, 0, 0, 0.3));\n",
              "      fill: #FFFFFF;\n",
              "    }\n",
              "  </style>\n",
              "\n",
              "    <script>\n",
              "      const buttonEl =\n",
              "        document.querySelector('#df-49352159-1d2b-494b-9dd3-f69dbcc04c0c button.colab-df-convert');\n",
              "      buttonEl.style.display =\n",
              "        google.colab.kernel.accessAllowed ? 'block' : 'none';\n",
              "\n",
              "      async function convertToInteractive(key) {\n",
              "        const element = document.querySelector('#df-49352159-1d2b-494b-9dd3-f69dbcc04c0c');\n",
              "        const dataTable =\n",
              "          await google.colab.kernel.invokeFunction('convertToInteractive',\n",
              "                                                    [key], {});\n",
              "        if (!dataTable) return;\n",
              "\n",
              "        const docLinkHtml = 'Like what you see? Visit the ' +\n",
              "          '<a target=\"_blank\" href=https://colab.research.google.com/notebooks/data_table.ipynb>data table notebook</a>'\n",
              "          + ' to learn more about interactive tables.';\n",
              "        element.innerHTML = '';\n",
              "        dataTable['output_type'] = 'display_data';\n",
              "        await google.colab.output.renderOutput(dataTable, element);\n",
              "        const docLink = document.createElement('div');\n",
              "        docLink.innerHTML = docLinkHtml;\n",
              "        element.appendChild(docLink);\n",
              "      }\n",
              "    </script>\n",
              "  </div>\n",
              "\n",
              "\n",
              "<div id=\"df-b10eb371-8cb6-4d54-b23e-3072fdb20cf5\">\n",
              "  <button class=\"colab-df-quickchart\" onclick=\"quickchart('df-b10eb371-8cb6-4d54-b23e-3072fdb20cf5')\"\n",
              "            title=\"Suggest charts\"\n",
              "            style=\"display:none;\">\n",
              "\n",
              "<svg xmlns=\"http://www.w3.org/2000/svg\" height=\"24px\"viewBox=\"0 0 24 24\"\n",
              "     width=\"24px\">\n",
              "    <g>\n",
              "        <path d=\"M19 3H5c-1.1 0-2 .9-2 2v14c0 1.1.9 2 2 2h14c1.1 0 2-.9 2-2V5c0-1.1-.9-2-2-2zM9 17H7v-7h2v7zm4 0h-2V7h2v10zm4 0h-2v-4h2v4z\"/>\n",
              "    </g>\n",
              "</svg>\n",
              "  </button>\n",
              "\n",
              "<style>\n",
              "  .colab-df-quickchart {\n",
              "      --bg-color: #E8F0FE;\n",
              "      --fill-color: #1967D2;\n",
              "      --hover-bg-color: #E2EBFA;\n",
              "      --hover-fill-color: #174EA6;\n",
              "      --disabled-fill-color: #AAA;\n",
              "      --disabled-bg-color: #DDD;\n",
              "  }\n",
              "\n",
              "  [theme=dark] .colab-df-quickchart {\n",
              "      --bg-color: #3B4455;\n",
              "      --fill-color: #D2E3FC;\n",
              "      --hover-bg-color: #434B5C;\n",
              "      --hover-fill-color: #FFFFFF;\n",
              "      --disabled-bg-color: #3B4455;\n",
              "      --disabled-fill-color: #666;\n",
              "  }\n",
              "\n",
              "  .colab-df-quickchart {\n",
              "    background-color: var(--bg-color);\n",
              "    border: none;\n",
              "    border-radius: 50%;\n",
              "    cursor: pointer;\n",
              "    display: none;\n",
              "    fill: var(--fill-color);\n",
              "    height: 32px;\n",
              "    padding: 0;\n",
              "    width: 32px;\n",
              "  }\n",
              "\n",
              "  .colab-df-quickchart:hover {\n",
              "    background-color: var(--hover-bg-color);\n",
              "    box-shadow: 0 1px 2px rgba(60, 64, 67, 0.3), 0 1px 3px 1px rgba(60, 64, 67, 0.15);\n",
              "    fill: var(--button-hover-fill-color);\n",
              "  }\n",
              "\n",
              "  .colab-df-quickchart-complete:disabled,\n",
              "  .colab-df-quickchart-complete:disabled:hover {\n",
              "    background-color: var(--disabled-bg-color);\n",
              "    fill: var(--disabled-fill-color);\n",
              "    box-shadow: none;\n",
              "  }\n",
              "\n",
              "  .colab-df-spinner {\n",
              "    border: 2px solid var(--fill-color);\n",
              "    border-color: transparent;\n",
              "    border-bottom-color: var(--fill-color);\n",
              "    animation:\n",
              "      spin 1s steps(1) infinite;\n",
              "  }\n",
              "\n",
              "  @keyframes spin {\n",
              "    0% {\n",
              "      border-color: transparent;\n",
              "      border-bottom-color: var(--fill-color);\n",
              "      border-left-color: var(--fill-color);\n",
              "    }\n",
              "    20% {\n",
              "      border-color: transparent;\n",
              "      border-left-color: var(--fill-color);\n",
              "      border-top-color: var(--fill-color);\n",
              "    }\n",
              "    30% {\n",
              "      border-color: transparent;\n",
              "      border-left-color: var(--fill-color);\n",
              "      border-top-color: var(--fill-color);\n",
              "      border-right-color: var(--fill-color);\n",
              "    }\n",
              "    40% {\n",
              "      border-color: transparent;\n",
              "      border-right-color: var(--fill-color);\n",
              "      border-top-color: var(--fill-color);\n",
              "    }\n",
              "    60% {\n",
              "      border-color: transparent;\n",
              "      border-right-color: var(--fill-color);\n",
              "    }\n",
              "    80% {\n",
              "      border-color: transparent;\n",
              "      border-right-color: var(--fill-color);\n",
              "      border-bottom-color: var(--fill-color);\n",
              "    }\n",
              "    90% {\n",
              "      border-color: transparent;\n",
              "      border-bottom-color: var(--fill-color);\n",
              "    }\n",
              "  }\n",
              "</style>\n",
              "\n",
              "  <script>\n",
              "    async function quickchart(key) {\n",
              "      const quickchartButtonEl =\n",
              "        document.querySelector('#' + key + ' button');\n",
              "      quickchartButtonEl.disabled = true;  // To prevent multiple clicks.\n",
              "      quickchartButtonEl.classList.add('colab-df-spinner');\n",
              "      try {\n",
              "        const charts = await google.colab.kernel.invokeFunction(\n",
              "            'suggestCharts', [key], {});\n",
              "      } catch (error) {\n",
              "        console.error('Error during call to suggestCharts:', error);\n",
              "      }\n",
              "      quickchartButtonEl.classList.remove('colab-df-spinner');\n",
              "      quickchartButtonEl.classList.add('colab-df-quickchart-complete');\n",
              "    }\n",
              "    (() => {\n",
              "      let quickchartButtonEl =\n",
              "        document.querySelector('#df-b10eb371-8cb6-4d54-b23e-3072fdb20cf5 button');\n",
              "      quickchartButtonEl.style.display =\n",
              "        google.colab.kernel.accessAllowed ? 'block' : 'none';\n",
              "    })();\n",
              "  </script>\n",
              "</div>\n",
              "\n",
              "    </div>\n",
              "  </div>\n"
            ],
            "application/vnd.google.colaboratory.intrinsic+json": {
              "type": "dataframe",
              "summary": "{\n  \"name\": \"df[[\\\"Inflation_Rate\\\",\\\"Crude Oil Price\\\",\\\"Production\\\",\\\"Crude Oil Export\\\",\\\"CPI_Food\\\",\\\"CPI_Energy\\\",\\\"CPI_Transport\\\",\\\"Year\\\",\\\"Month\\\"]]\",\n  \"rows\": 9,\n  \"fields\": [\n    {\n      \"column\": \"Inflation_Rate\",\n      \"properties\": {\n        \"dtype\": \"number\",\n        \"std\": 0.6868749549422707,\n        \"min\": -0.7488778153274664,\n        \"max\": 1.0,\n        \"num_unique_values\": 9,\n        \"samples\": [\n          0.6323845788295375,\n          -0.14114532805486169,\n          0.7689194159172669\n        ],\n        \"semantic_type\": \"\",\n        \"description\": \"\"\n      }\n    },\n    {\n      \"column\": \"Crude Oil Price\",\n      \"properties\": {\n        \"dtype\": \"number\",\n        \"std\": 0.37991883489372147,\n        \"min\": -0.26488070992528256,\n        \"max\": 1.0,\n        \"num_unique_values\": 9,\n        \"samples\": [\n          -0.26488070992528256,\n          1.0,\n          -0.15934448124175285\n        ],\n        \"semantic_type\": \"\",\n        \"description\": \"\"\n      }\n    },\n    {\n      \"column\": \"Production\",\n      \"properties\": {\n        \"dtype\": \"number\",\n        \"std\": 0.7871574887086166,\n        \"min\": -0.8475513390447954,\n        \"max\": 1.0,\n        \"num_unique_values\": 9,\n        \"samples\": [\n          -0.8150885668476008,\n          0.15942148545112234,\n          -0.8468492073899507\n        ],\n        \"semantic_type\": \"\",\n        \"description\": \"\"\n      }\n    },\n    {\n      \"column\": \"Crude Oil Export\",\n      \"properties\": {\n        \"dtype\": \"number\",\n        \"std\": 0.7885072871519633,\n        \"min\": -0.8504732423934644,\n        \"max\": 1.0,\n        \"num_unique_values\": 9,\n        \"samples\": [\n          -0.8174859970756894,\n          0.15945517418202299,\n          -0.8495455107277007\n        ],\n        \"semantic_type\": \"\",\n        \"description\": \"\"\n      }\n    },\n    {\n      \"column\": \"CPI_Food\",\n      \"properties\": {\n        \"dtype\": \"number\",\n        \"std\": 0.7809997853025931,\n        \"min\": -0.8400509440964025,\n        \"max\": 1.0,\n        \"num_unique_values\": 9,\n        \"samples\": [\n          0.8966388447737599,\n          -0.07988689022483139,\n          0.9847824783764452\n        ],\n        \"semantic_type\": \"\",\n        \"description\": \"\"\n      }\n    },\n    {\n      \"column\": \"CPI_Energy\",\n      \"properties\": {\n        \"dtype\": \"number\",\n        \"std\": 0.7926881077238814,\n        \"min\": -0.8495455107277007,\n        \"max\": 1.0,\n        \"num_unique_values\": 9,\n        \"samples\": [\n          0.9537032026981822,\n          -0.15934448124175285,\n          1.0\n        ],\n        \"semantic_type\": \"\",\n        \"description\": \"\"\n      }\n    },\n    {\n      \"column\": \"CPI_Transport\",\n      \"properties\": {\n        \"dtype\": \"number\",\n        \"std\": 0.79007099138239,\n        \"min\": -0.8504732423934644,\n        \"max\": 1.0,\n        \"num_unique_values\": 9,\n        \"samples\": [\n          0.9286943649128595,\n          -0.11360649592590565,\n          0.995091188977258\n        ],\n        \"semantic_type\": \"\",\n        \"description\": \"\"\n      }\n    },\n    {\n      \"column\": \"Year\",\n      \"properties\": {\n        \"dtype\": \"number\",\n        \"std\": 0.7667930293524551,\n        \"min\": -0.8174859970756894,\n        \"max\": 1.0,\n        \"num_unique_values\": 9,\n        \"samples\": [\n          1.0,\n          -0.26488070992528256,\n          0.9537032026981822\n        ],\n        \"semantic_type\": \"\",\n        \"description\": \"\"\n      }\n    },\n    {\n      \"column\": \"Month\",\n      \"properties\": {\n        \"dtype\": \"number\",\n        \"std\": 0.3395099797187016,\n        \"min\": -0.045545379328411066,\n        \"max\": 1.0,\n        \"num_unique_values\": 9,\n        \"samples\": [\n          -0.045545379328411066,\n          -0.026654656256734827,\n          -0.0034938785091325852\n        ],\n        \"semantic_type\": \"\",\n        \"description\": \"\"\n      }\n    }\n  ]\n}"
            }
          },
          "metadata": {},
          "execution_count": 62
        }
      ]
    },
    {
      "cell_type": "code",
      "source": [
        "sns.heatmap(df[[\"Inflation_Rate\",\"Crude Oil Price\",\"Production\",\"Crude Oil Export\",\"CPI_Food\",\"CPI_Energy\",\"CPI_Transport\",\"Year\",\"Month\"]].corr())"
      ],
      "metadata": {
        "colab": {
          "base_uri": "https://localhost:8080/",
          "height": 553
        },
        "id": "jiWwF5GiA2Of",
        "outputId": "1a5d0ea3-f1fc-47ce-e684-ee386be9c523"
      },
      "execution_count": null,
      "outputs": [
        {
          "output_type": "execute_result",
          "data": {
            "text/plain": [
              "<Axes: >"
            ]
          },
          "metadata": {},
          "execution_count": 63
        },
        {
          "output_type": "display_data",
          "data": {
            "text/plain": [
              "<Figure size 640x480 with 2 Axes>"
            ],
            "image/png": "[encoded data removed]"
          },
          "metadata": {}
        }
      ]
    },
    {
      "cell_type": "code",
      "source": [
        "df[\"CPI_Food\"]"
      ],
      "metadata": {
        "colab": {
          "base_uri": "https://localhost:8080/",
          "height": 458
        },
        "id": "JyA9sRXzBjX_",
        "outputId": "74f2f0c4-bf76-4348-de4f-1248e41747f9"
      },
      "execution_count": null,
      "outputs": [
        {
          "output_type": "execute_result",
          "data": {
            "text/plain": [
              "0       75.534431\n",
              "1       75.154185\n",
              "2       78.242523\n",
              "3       79.434268\n",
              "4       80.783677\n",
              "          ...    \n",
              "193    846.846533\n",
              "194    877.472863\n",
              "195    899.453386\n",
              "196    920.005281\n",
              "197    943.458769\n",
              "Name: CPI_Food, Length: 198, dtype: float64"
            ],
            "text/html": [
              "<div>\n",
              "<style scoped>\n",
              "    .dataframe tbody tr th:only-of-type {\n",
              "        vertical-align: middle;\n",
              "    }\n",
              "\n",
              "    .dataframe tbody tr th {\n",
              "        vertical-align: top;\n",
              "    }\n",
              "\n",
              "    .dataframe thead th {\n",
              "        text-align: right;\n",
              "    }\n",
              "</style>\n",
              "<table border=\"1\" class=\"dataframe\">\n",
              "  <thead>\n",
              "    <tr style=\"text-align: right;\">\n",
              "      <th></th>\n",
              "      <th>CPI_Food</th>\n",
              "    </tr>\n",
              "  </thead>\n",
              "  <tbody>\n",
              "    <tr>\n",
              "      <th>0</th>\n",
              "      <td>75.534431</td>\n",
              "    </tr>\n",
              "    <tr>\n",
              "      <th>1</th>\n",
              "      <td>75.154185</td>\n",
              "    </tr>\n",
              "    <tr>\n",
              "      <th>2</th>\n",
              "      <td>78.242523</td>\n",
              "    </tr>\n",
              "    <tr>\n",
              "      <th>3</th>\n",
              "      <td>79.434268</td>\n",
              "    </tr>\n",
              "    <tr>\n",
              "      <th>4</th>\n",
              "      <td>80.783677</td>\n",
              "    </tr>\n",
              "    <tr>\n",
              "      <th>...</th>\n",
              "      <td>...</td>\n",
              "    </tr>\n",
              "    <tr>\n",
              "      <th>193</th>\n",
              "      <td>846.846533</td>\n",
              "    </tr>\n",
              "    <tr>\n",
              "      <th>194</th>\n",
              "      <td>877.472863</td>\n",
              "    </tr>\n",
              "    <tr>\n",
              "      <th>195</th>\n",
              "      <td>899.453386</td>\n",
              "    </tr>\n",
              "    <tr>\n",
              "      <th>196</th>\n",
              "      <td>920.005281</td>\n",
              "    </tr>\n",
              "    <tr>\n",
              "      <th>197</th>\n",
              "      <td>943.458769</td>\n",
              "    </tr>\n",
              "  </tbody>\n",
              "</table>\n",
              "<p>198 rows × 1 columns</p>\n",
              "</div><br><label><b>dtype:</b> float64</label>"
            ]
          },
          "metadata": {},
          "execution_count": 64
        }
      ]
    },
    {
      "cell_type": "code",
      "source": [
        "df[\"CPI_Food\"].describe()"
      ],
      "metadata": {
        "colab": {
          "base_uri": "https://localhost:8080/",
          "height": 335
        },
        "id": "z9eYvXMcCQu9",
        "outputId": "fc2cb0c0-3a51-4b6c-d035-af2ec65d2d01"
      },
      "execution_count": null,
      "outputs": [
        {
          "output_type": "execute_result",
          "data": {
            "text/plain": [
              "count    198.000000\n",
              "mean     276.715714\n",
              "std      200.000754\n",
              "min       75.154185\n",
              "25%      129.971845\n",
              "50%      196.133375\n",
              "75%      357.349555\n",
              "max      943.458769\n",
              "Name: CPI_Food, dtype: float64"
            ],
            "text/html": [
              "<div>\n",
              "<style scoped>\n",
              "    .dataframe tbody tr th:only-of-type {\n",
              "        vertical-align: middle;\n",
              "    }\n",
              "\n",
              "    .dataframe tbody tr th {\n",
              "        vertical-align: top;\n",
              "    }\n",
              "\n",
              "    .dataframe thead th {\n",
              "        text-align: right;\n",
              "    }\n",
              "</style>\n",
              "<table border=\"1\" class=\"dataframe\">\n",
              "  <thead>\n",
              "    <tr style=\"text-align: right;\">\n",
              "      <th></th>\n",
              "      <th>CPI_Food</th>\n",
              "    </tr>\n",
              "  </thead>\n",
              "  <tbody>\n",
              "    <tr>\n",
              "      <th>count</th>\n",
              "      <td>198.000000</td>\n",
              "    </tr>\n",
              "    <tr>\n",
              "      <th>mean</th>\n",
              "      <td>276.715714</td>\n",
              "    </tr>\n",
              "    <tr>\n",
              "      <th>std</th>\n",
              "      <td>200.000754</td>\n",
              "    </tr>\n",
              "    <tr>\n",
              "      <th>min</th>\n",
              "      <td>75.154185</td>\n",
              "    </tr>\n",
              "    <tr>\n",
              "      <th>25%</th>\n",
              "      <td>129.971845</td>\n",
              "    </tr>\n",
              "    <tr>\n",
              "      <th>50%</th>\n",
              "      <td>196.133375</td>\n",
              "    </tr>\n",
              "    <tr>\n",
              "      <th>75%</th>\n",
              "      <td>357.349555</td>\n",
              "    </tr>\n",
              "    <tr>\n",
              "      <th>max</th>\n",
              "      <td>943.458769</td>\n",
              "    </tr>\n",
              "  </tbody>\n",
              "</table>\n",
              "</div><br><label><b>dtype:</b> float64</label>"
            ]
          },
          "metadata": {},
          "execution_count": 65
        }
      ]
    },
    {
      "cell_type": "code",
      "source": [
        "plt.boxplot(df[\"CPI_Food\"])\n",
        "plt.title(\"Boxplot of CPI_Food Value\")\n",
        "plt.ylabel(\"CPI_Food\")\n",
        "plt.show()\n"
      ],
      "metadata": {
        "colab": {
          "base_uri": "https://localhost:8080/",
          "height": 452
        },
        "id": "v-STkh8xCwTj",
        "outputId": "5f046a17-51a2-4985-9e6c-5c97b0961904"
      },
      "execution_count": null,
      "outputs": [
        {
          "output_type": "display_data",
          "data": {
            "text/plain": [
              "<Figure size 640x480 with 1 Axes>"
            ],
            "image/png": "[encoded data removed]"
          },
          "metadata": {}
        }
      ]
    },
    {
      "cell_type": "markdown",
      "source": [
        "##**Addressing CPI_FOOD Outliers**##"
      ],
      "metadata": {
        "id": "z8JMyiPRC78P"
      }
    },
    {
      "cell_type": "code",
      "source": [
        "Q1 = df[\"CPI_Food\"].quantile(0.25)\n",
        "Q3 = df[\"CPI_Food\"].quantile(0.75)\n",
        "print(Q1,Q3)\n",
        "IQR = Q3 - Q1\n",
        "print(IQR)\n",
        "\n",
        "lower_bound = Q1 - 1.5 * IQR\n",
        "upper_bound = Q3 + 1.5 * IQR\n",
        "print(lower_bound)\n",
        "print(upper_bound)"
      ],
      "metadata": {
        "colab": {
          "base_uri": "https://localhost:8080/"
        },
        "id": "U4d4dSNZDKJ9",
        "outputId": "23cac74f-cf6d-47c8-81cf-7fc7115aa38a"
      },
      "execution_count": null,
      "outputs": [
        {
          "output_type": "stream",
          "name": "stdout",
          "text": [
            "129.971844875 357.349555225\n",
            "227.37771035000003\n",
            "-211.09472065000006\n",
            "698.4161207500001\n"
          ]
        }
      ]
    },
    {
      "cell_type": "code",
      "source": [
        "df[\"CPI_Food\"] = np.where(df[\"CPI_Food\"] > upper_bound, upper_bound, df[\"CPI_Food\"])"
      ],
      "metadata": {
        "id": "F0-aQ-SEDY-l"
      },
      "execution_count": null,
      "outputs": []
    },
    {
      "cell_type": "code",
      "source": [
        "plt.boxplot(df[\"CPI_Food\"])\n",
        "plt.title(\"Boxplot of CPI_Food Value\")\n",
        "plt.ylabel(\"CPI_Food\")\n",
        "plt.show()\n"
      ],
      "metadata": {
        "colab": {
          "base_uri": "https://localhost:8080/",
          "height": 452
        },
        "id": "VibkFWV5DbU7",
        "outputId": "5ab37fce-33e1-4df5-b132-ece645a7a722"
      },
      "execution_count": null,
      "outputs": [
        {
          "output_type": "display_data",
          "data": {
            "text/plain": [
              "<Figure size 640x480 with 1 Axes>"
            ],
            "image/png": "[encoded data removed]"
          },
          "metadata": {}
        }
      ]
    },
    {
      "cell_type": "code",
      "source": [
        "#Plotting a scatter plot of CPI_Food against Inflation Rate\n",
        "plt.scatter(x=df[\"CPI_Food\"],y=df[\"Inflation_Rate\"])\n",
        "plt.xlabel(\"CPI_Food\")\n",
        "plt.ylabel(\"Inflation_Rate\")"
      ],
      "metadata": {
        "colab": {
          "base_uri": "https://localhost:8080/",
          "height": 467
        },
        "id": "aXWFziH8D4Jr",
        "outputId": "5b4d1416-ebbc-4319-e7bc-21feaeb5dabf"
      },
      "execution_count": null,
      "outputs": [
        {
          "output_type": "execute_result",
          "data": {
            "text/plain": [
              "Text(0, 0.5, 'Inflation_Rate')"
            ]
          },
          "metadata": {},
          "execution_count": 70
        },
        {
          "output_type": "display_data",
          "data": {
            "text/plain": [
              "<Figure size 640x480 with 1 Axes>"
            ],
            "image/png": "[encoded data removed]"
          },
          "metadata": {}
        }
      ]
    },
    {
      "cell_type": "markdown",
      "source": [
        "##**Training And Testing Model**##"
      ],
      "metadata": {
        "id": "4c2rs83DG8eZ"
      }
    },
    {
      "cell_type": "code",
      "source": [
        "model_df=df[[\"CPI_Food\",\"Inflation_Rate\"]]\n",
        "model_df"
      ],
      "metadata": {
        "colab": {
          "base_uri": "https://localhost:8080/",
          "height": 423
        },
        "id": "1xieFna_GZmF",
        "outputId": "5a06f278-a976-4760-fe24-0f2f141bad35"
      },
      "execution_count": null,
      "outputs": [
        {
          "output_type": "execute_result",
          "data": {
            "text/plain": [
              "       CPI_Food  Inflation_Rate\n",
              "0     75.534431          8.6000\n",
              "1     75.154185          8.0000\n",
              "2     78.242523          7.8000\n",
              "3     79.434268          8.2000\n",
              "4     80.783677          9.7000\n",
              "..          ...             ...\n",
              "193  698.416121         24.1625\n",
              "194  698.416121         24.1625\n",
              "195  698.416121         24.1625\n",
              "196  698.416121         24.1625\n",
              "197  698.416121         24.1625\n",
              "\n",
              "[198 rows x 2 columns]"
            ],
            "text/html": [
              "\n",
              "  <div id=\"df-56079758-ccb9-46dd-adf0-7449356bd048\" class=\"colab-df-container\">\n",
              "    <div>\n",
              "<style scoped>\n",
              "    .dataframe tbody tr th:only-of-type {\n",
              "        vertical-align: middle;\n",
              "    }\n",
              "\n",
              "    .dataframe tbody tr th {\n",
              "        vertical-align: top;\n",
              "    }\n",
              "\n",
              "    .dataframe thead th {\n",
              "        text-align: right;\n",
              "    }\n",
              "</style>\n",
              "<table border=\"1\" class=\"dataframe\">\n",
              "  <thead>\n",
              "    <tr style=\"text-align: right;\">\n",
              "      <th></th>\n",
              "      <th>CPI_Food</th>\n",
              "      <th>Inflation_Rate</th>\n",
              "    </tr>\n",
              "  </thead>\n",
              "  <tbody>\n",
              "    <tr>\n",
              "      <th>0</th>\n",
              "      <td>75.534431</td>\n",
              "      <td>8.6000</td>\n",
              "    </tr>\n",
              "    <tr>\n",
              "      <th>1</th>\n",
              "      <td>75.154185</td>\n",
              "      <td>8.0000</td>\n",
              "    </tr>\n",
              "    <tr>\n",
              "      <th>2</th>\n",
              "      <td>78.242523</td>\n",
              "      <td>7.8000</td>\n",
              "    </tr>\n",
              "    <tr>\n",
              "      <th>3</th>\n",
              "      <td>79.434268</td>\n",
              "      <td>8.2000</td>\n",
              "    </tr>\n",
              "    <tr>\n",
              "      <th>4</th>\n",
              "      <td>80.783677</td>\n",
              "      <td>9.7000</td>\n",
              "    </tr>\n",
              "    <tr>\n",
              "      <th>...</th>\n",
              "      <td>...</td>\n",
              "      <td>...</td>\n",
              "    </tr>\n",
              "    <tr>\n",
              "      <th>193</th>\n",
              "      <td>698.416121</td>\n",
              "      <td>24.1625</td>\n",
              "    </tr>\n",
              "    <tr>\n",
              "      <th>194</th>\n",
              "      <td>698.416121</td>\n",
              "      <td>24.1625</td>\n",
              "    </tr>\n",
              "    <tr>\n",
              "      <th>195</th>\n",
              "      <td>698.416121</td>\n",
              "      <td>24.1625</td>\n",
              "    </tr>\n",
              "    <tr>\n",
              "      <th>196</th>\n",
              "      <td>698.416121</td>\n",
              "      <td>24.1625</td>\n",
              "    </tr>\n",
              "    <tr>\n",
              "      <th>197</th>\n",
              "      <td>698.416121</td>\n",
              "      <td>24.1625</td>\n",
              "    </tr>\n",
              "  </tbody>\n",
              "</table>\n",
              "<p>198 rows × 2 columns</p>\n",
              "</div>\n",
              "    <div class=\"colab-df-buttons\">\n",
              "\n",
              "  <div class=\"colab-df-container\">\n",
              "    <button class=\"colab-df-convert\" onclick=\"convertToInteractive('df-56079758-ccb9-46dd-adf0-7449356bd048')\"\n",
              "            title=\"Convert this dataframe to an interactive table.\"\n",
              "            style=\"display:none;\">\n",
              "\n",
              "  <svg xmlns=\"http://www.w3.org/2000/svg\" height=\"24px\" viewBox=\"0 -960 960 960\">\n",
              "    <path d=\"M120-120v-720h720v720H120Zm60-500h600v-160H180v160Zm220 220h160v-160H400v160Zm0 220h160v-160H400v160ZM180-400h160v-160H180v160Zm440 0h160v-160H620v160ZM180-180h160v-160H180v160Zm440 0h160v-160H620v160Z\"/>\n",
              "  </svg>\n",
              "    </button>\n",
              "\n",
              "  <style>\n",
              "    .colab-df-container {\n",
              "      display:flex;\n",
              "      gap: 12px;\n",
              "    }\n",
              "\n",
              "    .colab-df-convert {\n",
              "      background-color: #E8F0FE;\n",
              "      border: none;\n",
              "      border-radius: 50%;\n",
              "      cursor: pointer;\n",
              "      display: none;\n",
              "      fill: #1967D2;\n",
              "      height: 32px;\n",
              "      padding: 0 0 0 0;\n",
              "      width: 32px;\n",
              "    }\n",
              "\n",
              "    .colab-df-convert:hover {\n",
              "      background-color: #E2EBFA;\n",
              "      box-shadow: 0px 1px 2px rgba(60, 64, 67, 0.3), 0px 1px 3px 1px rgba(60, 64, 67, 0.15);\n",
              "      fill: #174EA6;\n",
              "    }\n",
              "\n",
              "    .colab-df-buttons div {\n",
              "      margin-bottom: 4px;\n",
              "    }\n",
              "\n",
              "    [theme=dark] .colab-df-convert {\n",
              "      background-color: #3B4455;\n",
              "      fill: #D2E3FC;\n",
              "    }\n",
              "\n",
              "    [theme=dark] .colab-df-convert:hover {\n",
              "      background-color: #434B5C;\n",
              "      box-shadow: 0px 1px 3px 1px rgba(0, 0, 0, 0.15);\n",
              "      filter: drop-shadow(0px 1px 2px rgba(0, 0, 0, 0.3));\n",
              "      fill: #FFFFFF;\n",
              "    }\n",
              "  </style>\n",
              "\n",
              "    <script>\n",
              "      const buttonEl =\n",
              "        document.querySelector('#df-56079758-ccb9-46dd-adf0-7449356bd048 button.colab-df-convert');\n",
              "      buttonEl.style.display =\n",
              "        google.colab.kernel.accessAllowed ? 'block' : 'none';\n",
              "\n",
              "      async function convertToInteractive(key) {\n",
              "        const element = document.querySelector('#df-56079758-ccb9-46dd-adf0-7449356bd048');\n",
              "        const dataTable =\n",
              "          await google.colab.kernel.invokeFunction('convertToInteractive',\n",
              "                                                    [key], {});\n",
              "        if (!dataTable) return;\n",
              "\n",
              "        const docLinkHtml = 'Like what you see? Visit the ' +\n",
              "          '<a target=\"_blank\" href=https://colab.research.google.com/notebooks/data_table.ipynb>data table notebook</a>'\n",
              "          + ' to learn more about interactive tables.';\n",
              "        element.innerHTML = '';\n",
              "        dataTable['output_type'] = 'display_data';\n",
              "        await google.colab.output.renderOutput(dataTable, element);\n",
              "        const docLink = document.createElement('div');\n",
              "        docLink.innerHTML = docLinkHtml;\n",
              "        element.appendChild(docLink);\n",
              "      }\n",
              "    </script>\n",
              "  </div>\n",
              "\n",
              "\n",
              "<div id=\"df-7cb7fed9-bac9-4cc4-afe6-259892a9c518\">\n",
              "  <button class=\"colab-df-quickchart\" onclick=\"quickchart('df-7cb7fed9-bac9-4cc4-afe6-259892a9c518')\"\n",
              "            title=\"Suggest charts\"\n",
              "            style=\"display:none;\">\n",
              "\n",
              "<svg xmlns=\"http://www.w3.org/2000/svg\" height=\"24px\"viewBox=\"0 0 24 24\"\n",
              "     width=\"24px\">\n",
              "    <g>\n",
              "        <path d=\"M19 3H5c-1.1 0-2 .9-2 2v14c0 1.1.9 2 2 2h14c1.1 0 2-.9 2-2V5c0-1.1-.9-2-2-2zM9 17H7v-7h2v7zm4 0h-2V7h2v10zm4 0h-2v-4h2v4z\"/>\n",
              "    </g>\n",
              "</svg>\n",
              "  </button>\n",
              "\n",
              "<style>\n",
              "  .colab-df-quickchart {\n",
              "      --bg-color: #E8F0FE;\n",
              "      --fill-color: #1967D2;\n",
              "      --hover-bg-color: #E2EBFA;\n",
              "      --hover-fill-color: #174EA6;\n",
              "      --disabled-fill-color: #AAA;\n",
              "      --disabled-bg-color: #DDD;\n",
              "  }\n",
              "\n",
              "  [theme=dark] .colab-df-quickchart {\n",
              "      --bg-color: #3B4455;\n",
              "      --fill-color: #D2E3FC;\n",
              "      --hover-bg-color: #434B5C;\n",
              "      --hover-fill-color: #FFFFFF;\n",
              "      --disabled-bg-color: #3B4455;\n",
              "      --disabled-fill-color: #666;\n",
              "  }\n",
              "\n",
              "  .colab-df-quickchart {\n",
              "    background-color: var(--bg-color);\n",
              "    border: none;\n",
              "    border-radius: 50%;\n",
              "    cursor: pointer;\n",
              "    display: none;\n",
              "    fill: var(--fill-color);\n",
              "    height: 32px;\n",
              "    padding: 0;\n",
              "    width: 32px;\n",
              "  }\n",
              "\n",
              "  .colab-df-quickchart:hover {\n",
              "    background-color: var(--hover-bg-color);\n",
              "    box-shadow: 0 1px 2px rgba(60, 64, 67, 0.3), 0 1px 3px 1px rgba(60, 64, 67, 0.15);\n",
              "    fill: var(--button-hover-fill-color);\n",
              "  }\n",
              "\n",
              "  .colab-df-quickchart-complete:disabled,\n",
              "  .colab-df-quickchart-complete:disabled:hover {\n",
              "    background-color: var(--disabled-bg-color);\n",
              "    fill: var(--disabled-fill-color);\n",
              "    box-shadow: none;\n",
              "  }\n",
              "\n",
              "  .colab-df-spinner {\n",
              "    border: 2px solid var(--fill-color);\n",
              "    border-color: transparent;\n",
              "    border-bottom-color: var(--fill-color);\n",
              "    animation:\n",
              "      spin 1s steps(1) infinite;\n",
              "  }\n",
              "\n",
              "  @keyframes spin {\n",
              "    0% {\n",
              "      border-color: transparent;\n",
              "      border-bottom-color: var(--fill-color);\n",
              "      border-left-color: var(--fill-color);\n",
              "    }\n",
              "    20% {\n",
              "      border-color: transparent;\n",
              "      border-left-color: var(--fill-color);\n",
              "      border-top-color: var(--fill-color);\n",
              "    }\n",
              "    30% {\n",
              "      border-color: transparent;\n",
              "      border-left-color: var(--fill-color);\n",
              "      border-top-color: var(--fill-color);\n",
              "      border-right-color: var(--fill-color);\n",
              "    }\n",
              "    40% {\n",
              "      border-color: transparent;\n",
              "      border-right-color: var(--fill-color);\n",
              "      border-top-color: var(--fill-color);\n",
              "    }\n",
              "    60% {\n",
              "      border-color: transparent;\n",
              "      border-right-color: var(--fill-color);\n",
              "    }\n",
              "    80% {\n",
              "      border-color: transparent;\n",
              "      border-right-color: var(--fill-color);\n",
              "      border-bottom-color: var(--fill-color);\n",
              "    }\n",
              "    90% {\n",
              "      border-color: transparent;\n",
              "      border-bottom-color: var(--fill-color);\n",
              "    }\n",
              "  }\n",
              "</style>\n",
              "\n",
              "  <script>\n",
              "    async function quickchart(key) {\n",
              "      const quickchartButtonEl =\n",
              "        document.querySelector('#' + key + ' button');\n",
              "      quickchartButtonEl.disabled = true;  // To prevent multiple clicks.\n",
              "      quickchartButtonEl.classList.add('colab-df-spinner');\n",
              "      try {\n",
              "        const charts = await google.colab.kernel.invokeFunction(\n",
              "            'suggestCharts', [key], {});\n",
              "      } catch (error) {\n",
              "        console.error('Error during call to suggestCharts:', error);\n",
              "      }\n",
              "      quickchartButtonEl.classList.remove('colab-df-spinner');\n",
              "      quickchartButtonEl.classList.add('colab-df-quickchart-complete');\n",
              "    }\n",
              "    (() => {\n",
              "      let quickchartButtonEl =\n",
              "        document.querySelector('#df-7cb7fed9-bac9-4cc4-afe6-259892a9c518 button');\n",
              "      quickchartButtonEl.style.display =\n",
              "        google.colab.kernel.accessAllowed ? 'block' : 'none';\n",
              "    })();\n",
              "  </script>\n",
              "</div>\n",
              "\n",
              "  <div id=\"id_d8dd145d-9c8f-41fb-b2d3-3cc96c508f7d\">\n",
              "    <style>\n",
              "      .colab-df-generate {\n",
              "        background-color: #E8F0FE;\n",
              "        border: none;\n",
              "        border-radius: 50%;\n",
              "        cursor: pointer;\n",
              "        display: none;\n",
              "        fill: #1967D2;\n",
              "        height: 32px;\n",
              "        padding: 0 0 0 0;\n",
              "        width: 32px;\n",
              "      }\n",
              "\n",
              "      .colab-df-generate:hover {\n",
              "        background-color: #E2EBFA;\n",
              "        box-shadow: 0px 1px 2px rgba(60, 64, 67, 0.3), 0px 1px 3px 1px rgba(60, 64, 67, 0.15);\n",
              "        fill: #174EA6;\n",
              "      }\n",
              "\n",
              "      [theme=dark] .colab-df-generate {\n",
              "        background-color: #3B4455;\n",
              "        fill: #D2E3FC;\n",
              "      }\n",
              "\n",
              "      [theme=dark] .colab-df-generate:hover {\n",
              "        background-color: #434B5C;\n",
              "        box-shadow: 0px 1px 3px 1px rgba(0, 0, 0, 0.15);\n",
              "        filter: drop-shadow(0px 1px 2px rgba(0, 0, 0, 0.3));\n",
              "        fill: #FFFFFF;\n",
              "      }\n",
              "    </style>\n",
              "    <button class=\"colab-df-generate\" onclick=\"generateWithVariable('model_df')\"\n",
              "            title=\"Generate code using this dataframe.\"\n",
              "            style=\"display:none;\">\n",
              "\n",
              "  <svg xmlns=\"http://www.w3.org/2000/svg\" height=\"24px\"viewBox=\"0 0 24 24\"\n",
              "       width=\"24px\">\n",
              "    <path d=\"M7,19H8.4L18.45,9,17,7.55,7,17.6ZM5,21V16.75L18.45,3.32a2,2,0,0,1,2.83,0l1.4,1.43a1.91,1.91,0,0,1,.58,1.4,1.91,1.91,0,0,1-.58,1.4L9.25,21ZM18.45,9,17,7.55Zm-12,3A5.31,5.31,0,0,0,4.9,8.1,5.31,5.31,0,0,0,1,6.5,5.31,5.31,0,0,0,4.9,4.9,5.31,5.31,0,0,0,6.5,1,5.31,5.31,0,0,0,8.1,4.9,5.31,5.31,0,0,0,12,6.5,5.46,5.46,0,0,0,6.5,12Z\"/>\n",
              "  </svg>\n",
              "    </button>\n",
              "    <script>\n",
              "      (() => {\n",
              "      const buttonEl =\n",
              "        document.querySelector('#id_d8dd145d-9c8f-41fb-b2d3-3cc96c508f7d button.colab-df-generate');\n",
              "      buttonEl.style.display =\n",
              "        google.colab.kernel.accessAllowed ? 'block' : 'none';\n",
              "\n",
              "      buttonEl.onclick = () => {\n",
              "        google.colab.notebook.generateWithVariable('model_df');\n",
              "      }\n",
              "      })();\n",
              "    </script>\n",
              "  </div>\n",
              "\n",
              "    </div>\n",
              "  </div>\n"
            ],
            "application/vnd.google.colaboratory.intrinsic+json": {
              "type": "dataframe",
              "variable_name": "model_df",
              "summary": "{\n  \"name\": \"model_df\",\n  \"rows\": 198,\n  \"fields\": [\n    {\n      \"column\": \"CPI_Food\",\n      \"properties\": {\n        \"dtype\": \"number\",\n        \"std\": 181.1269612543513,\n        \"min\": 75.15418502,\n        \"max\": 698.4161207500001,\n        \"num_unique_values\": 188,\n        \"samples\": [\n          640.043131,\n          447.1811283,\n          97.86691398\n        ],\n        \"semantic_type\": \"\",\n        \"description\": \"\"\n      }\n    },\n    {\n      \"column\": \"Inflation_Rate\",\n      \"properties\": {\n        \"dtype\": \"number\",\n        \"std\": 4.480942065714995,\n        \"min\": 7.7,\n        \"max\": 24.162499999999998,\n        \"num_unique_values\": 142,\n        \"samples\": [\n          21.09,\n          10.4,\n          14.33\n        ],\n        \"semantic_type\": \"\",\n        \"description\": \"\"\n      }\n    }\n  ]\n}"
            }
          },
          "metadata": {},
          "execution_count": 71
        }
      ]
    },
    {
      "cell_type": "code",
      "source": [
        "#divide data into feature matrix and taget vector\n",
        "feature = [\"CPI_Food\"]\n",
        "target = \"Inflation_Rate\"\n",
        "\n",
        "X= model_df[feature]\n",
        "y= model_df[target]"
      ],
      "metadata": {
        "id": "GfEnoj5AHXF1"
      },
      "execution_count": null,
      "outputs": []
    },
    {
      "cell_type": "code",
      "source": [
        "# splitting data into training and testing sets\n",
        "X_train, X_test,y_train,y_test =train_test_split(X,y, test_size=0.2, random_state=42)\n",
        "print(X_train.shape, X_test.shape,y_train.shape,y_test.shape)"
      ],
      "metadata": {
        "colab": {
          "base_uri": "https://localhost:8080/"
        },
        "id": "pgtkzmSIHiuP",
        "outputId": "383e6475-cbfc-4f6d-c56d-1edb83f203d8"
      },
      "execution_count": null,
      "outputs": [
        {
          "output_type": "stream",
          "name": "stdout",
          "text": [
            "(158, 1) (40, 1) (158,) (40,)\n"
          ]
        }
      ]
    },
    {
      "cell_type": "markdown",
      "source": [
        "##**EVALUATING MODEL PERFORMERS**##"
      ],
      "metadata": {
        "id": "dIiO8XisImTZ"
      }
    },
    {
      "cell_type": "markdown",
      "source": [
        "##**Reodering the Model Creation and Performance Evaluation Steps**##"
      ],
      "metadata": {
        "id": "Be8uy4YKKm3O"
      }
    },
    {
      "cell_type": "markdown",
      "source": [
        "**Baselining**"
      ],
      "metadata": {
        "id": "u6Zky9Q6LB7V"
      }
    },
    {
      "cell_type": "code",
      "source": [
        "# let's create baseline model\n",
        "\n",
        "baseline_model =y_train.mean()\n",
        "baseline_model"
      ],
      "metadata": {
        "colab": {
          "base_uri": "https://localhost:8080/"
        },
        "id": "PFW3ZOuDNBKh",
        "outputId": "2582f4bb-f4fe-4793-e8c0-84c8bdd85613"
      },
      "execution_count": null,
      "outputs": [
        {
          "output_type": "execute_result",
          "data": {
            "text/plain": [
              "13.838939873417724"
            ]
          },
          "metadata": {},
          "execution_count": 74
        }
      ]
    },
    {
      "cell_type": "code",
      "source": [
        "# let create prediction using the baseline model\n",
        "\n",
        "baseline_pred=[baseline_model] * len(y_test)\n",
        "baseline_pred"
      ],
      "metadata": {
        "colab": {
          "base_uri": "https://localhost:8080/"
        },
        "id": "OCM4PDF7NTvf",
        "outputId": "c92b0702-0ec5-4ef0-eea9-922e66a63486"
      },
      "execution_count": null,
      "outputs": [
        {
          "output_type": "execute_result",
          "data": {
            "text/plain": [
              "[13.838939873417724,\n",
              " 13.838939873417724,\n",
              " 13.838939873417724,\n",
              " 13.838939873417724,\n",
              " 13.838939873417724,\n",
              " 13.838939873417724,\n",
              " 13.838939873417724,\n",
              " 13.838939873417724,\n",
              " 13.838939873417724,\n",
              " 13.838939873417724,\n",
              " 13.838939873417724,\n",
              " 13.838939873417724,\n",
              " 13.838939873417724,\n",
              " 13.838939873417724,\n",
              " 13.838939873417724,\n",
              " 13.838939873417724,\n",
              " 13.838939873417724,\n",
              " 13.838939873417724,\n",
              " 13.838939873417724,\n",
              " 13.838939873417724,\n",
              " 13.838939873417724,\n",
              " 13.838939873417724,\n",
              " 13.838939873417724,\n",
              " 13.838939873417724,\n",
              " 13.838939873417724,\n",
              " 13.838939873417724,\n",
              " 13.838939873417724,\n",
              " 13.838939873417724,\n",
              " 13.838939873417724,\n",
              " 13.838939873417724,\n",
              " 13.838939873417724,\n",
              " 13.838939873417724,\n",
              " 13.838939873417724,\n",
              " 13.838939873417724,\n",
              " 13.838939873417724,\n",
              " 13.838939873417724,\n",
              " 13.838939873417724,\n",
              " 13.838939873417724,\n",
              " 13.838939873417724,\n",
              " 13.838939873417724]"
            ]
          },
          "metadata": {},
          "execution_count": 75
        }
      ]
    },
    {
      "cell_type": "code",
      "source": [
        "# visualing the baseline on scatterplot\n",
        "plt.plot(X_test.values,baseline_pred, color=\"orange\",label=\"Baseline Model\")\n",
        "plt.scatter(X,y)\n",
        "plt.xlabel(\"CPI_Food\")\n",
        "plt.ylabel(\"Inflation_Rate value\")\n",
        "plt.legend()\n"
      ],
      "metadata": {
        "colab": {
          "base_uri": "https://localhost:8080/",
          "height": 467
        },
        "id": "kezOkIA-I4iS",
        "outputId": "040078ac-939d-44b5-f9fc-fb14fad1f582"
      },
      "execution_count": null,
      "outputs": [
        {
          "output_type": "execute_result",
          "data": {
            "text/plain": [
              "<matplotlib.legend.Legend at 0x789c267dc8d0>"
            ]
          },
          "metadata": {},
          "execution_count": 76
        },
        {
          "output_type": "display_data",
          "data": {
            "text/plain": [
              "<Figure size 640x480 with 1 Axes>"
            ],
            "image/png": "[encoded data removed]"
          },
          "metadata": {}
        }
      ]
    },
    {
      "cell_type": "markdown",
      "source": [
        "##**Evaluate Baseline Performance**##\n",
        "\n",
        "MAE[Mean Absolute Error] evaluation metric will be used"
      ],
      "metadata": {
        "id": "NTh8bfJ7Pa4I"
      }
    },
    {
      "cell_type": "code",
      "source": [
        "#MAE for baseline model\n",
        "\n",
        "baseline_mae= mean_absolute_error(y_test,baseline_pred)\n",
        "\n",
        "print(\"The mean value of y_train value is:\",round(baseline_model,2))\n",
        "print(\"The baseline MAE is:\",round(baseline_mae,2))"
      ],
      "metadata": {
        "colab": {
          "base_uri": "https://localhost:8080/"
        },
        "id": "2FckWD_7QDT2",
        "outputId": "cae0fe8e-ade8-4b2e-e853-3a8106a69bca"
      },
      "execution_count": null,
      "outputs": [
        {
          "output_type": "stream",
          "name": "stdout",
          "text": [
            "The mean value of y_train value is: 13.84\n",
            "The baseline MAE is: 3.45\n"
          ]
        }
      ]
    },
    {
      "cell_type": "markdown",
      "source": [
        "##**Build and Evaluate Model**##"
      ],
      "metadata": {
        "id": "XIevPNMMRSMH"
      }
    },
    {
      "cell_type": "code",
      "source": [
        "# lets create a linear regression model\n",
        "\n",
        "model= LinearRegression()"
      ],
      "metadata": {
        "id": "4mhYBJ-oRgnk"
      },
      "execution_count": null,
      "outputs": []
    },
    {
      "cell_type": "markdown",
      "source": [
        "**Model Fitting (Training)**"
      ],
      "metadata": {
        "id": "ImIwcnbXRw72"
      }
    },
    {
      "cell_type": "code",
      "source": [
        "# to fit a model means to train it using the X_train and y_train values\n",
        "model.fit(X_train,y_train)"
      ],
      "metadata": {
        "colab": {
          "base_uri": "https://localhost:8080/",
          "height": 80
        },
        "id": "ny-WLZv7Sa18",
        "outputId": "52cc8faf-12d4-4f91-c5cf-99f2ff06ed8d"
      },
      "execution_count": null,
      "outputs": [
        {
          "output_type": "execute_result",
          "data": {
            "text/plain": [
              "LinearRegression()"
            ],
            "text/html": [
              "<style>#sk-container-id-1 {\n",
              "  /* Definition of color scheme common for light and dark mode */\n",
              "  --sklearn-color-text: #000;\n",
              "  --sklearn-color-text-muted: #666;\n",
              "  --sklearn-color-line: gray;\n",
              "  /* Definition of color scheme for unfitted estimators */\n",
              "  --sklearn-color-unfitted-level-0: #fff5e6;\n",
              "  --sklearn-color-unfitted-level-1: #f6e4d2;\n",
              "  --sklearn-color-unfitted-level-2: #ffe0b3;\n",
              "  --sklearn-color-unfitted-level-3: chocolate;\n",
              "  /* Definition of color scheme for fitted estimators */\n",
              "  --sklearn-color-fitted-level-0: #f0f8ff;\n",
              "  --sklearn-color-fitted-level-1: #d4ebff;\n",
              "  --sklearn-color-fitted-level-2: #b3dbfd;\n",
              "  --sklearn-color-fitted-level-3: cornflowerblue;\n",
              "\n",
              "  /* Specific color for light theme */\n",
              "  --sklearn-color-text-on-default-background: var(--sg-text-color, var(--theme-code-foreground, var(--jp-content-font-color1, black)));\n",
              "  --sklearn-color-background: var(--sg-background-color, var(--theme-background, var(--jp-layout-color0, white)));\n",
              "  --sklearn-color-border-box: var(--sg-text-color, var(--theme-code-foreground, var(--jp-content-font-color1, black)));\n",
              "  --sklearn-color-icon: #696969;\n",
              "\n",
              "  @media (prefers-color-scheme: dark) {\n",
              "    /* Redefinition of color scheme for dark theme */\n",
              "    --sklearn-color-text-on-default-background: var(--sg-text-color, var(--theme-code-foreground, var(--jp-content-font-color1, white)));\n",
              "    --sklearn-color-background: var(--sg-background-color, var(--theme-background, var(--jp-layout-color0, #111)));\n",
              "    --sklearn-color-border-box: var(--sg-text-color, var(--theme-code-foreground, var(--jp-content-font-color1, white)));\n",
              "    --sklearn-color-icon: #878787;\n",
              "  }\n",
              "}\n",
              "\n",
              "#sk-container-id-1 {\n",
              "  color: var(--sklearn-color-text);\n",
              "}\n",
              "\n",
              "#sk-container-id-1 pre {\n",
              "  padding: 0;\n",
              "}\n",
              "\n",
              "#sk-container-id-1 input.sk-hidden--visually {\n",
              "  border: 0;\n",
              "  clip: rect(1px 1px 1px 1px);\n",
              "  clip: rect(1px, 1px, 1px, 1px);\n",
              "  height: 1px;\n",
              "  margin: -1px;\n",
              "  overflow: hidden;\n",
              "  padding: 0;\n",
              "  position: absolute;\n",
              "  width: 1px;\n",
              "}\n",
              "\n",
              "#sk-container-id-1 div.sk-dashed-wrapped {\n",
              "  border: 1px dashed var(--sklearn-color-line);\n",
              "  margin: 0 0.4em 0.5em 0.4em;\n",
              "  box-sizing: border-box;\n",
              "  padding-bottom: 0.4em;\n",
              "  background-color: var(--sklearn-color-background);\n",
              "}\n",
              "\n",
              "#sk-container-id-1 div.sk-container {\n",
              "  /* jupyter's `normalize.less` sets `[hidden] { display: none; }`\n",
              "     but bootstrap.min.css set `[hidden] { display: none !important; }`\n",
              "     so we also need the `!important` here to be able to override the\n",
              "     default hidden behavior on the sphinx rendered scikit-learn.org.\n",
              "     See: https://github.com/scikit-learn/scikit-learn/issues/21755 */\n",
              "  display: inline-block !important;\n",
              "  position: relative;\n",
              "}\n",
              "\n",
              "#sk-container-id-1 div.sk-text-repr-fallback {\n",
              "  display: none;\n",
              "}\n",
              "\n",
              "div.sk-parallel-item,\n",
              "div.sk-serial,\n",
              "div.sk-item {\n",
              "  /* draw centered vertical line to link estimators */\n",
              "  background-image: linear-gradient(var(--sklearn-color-text-on-default-background), var(--sklearn-color-text-on-default-background));\n",
              "  background-size: 2px 100%;\n",
              "  background-repeat: no-repeat;\n",
              "  background-position: center center;\n",
              "}\n",
              "\n",
              "/* Parallel-specific style estimator block */\n",
              "\n",
              "#sk-container-id-1 div.sk-parallel-item::after {\n",
              "  content: \"\";\n",
              "  width: 100%;\n",
              "  border-bottom: 2px solid var(--sklearn-color-text-on-default-background);\n",
              "  flex-grow: 1;\n",
              "}\n",
              "\n",
              "#sk-container-id-1 div.sk-parallel {\n",
              "  display: flex;\n",
              "  align-items: stretch;\n",
              "  justify-content: center;\n",
              "  background-color: var(--sklearn-color-background);\n",
              "  position: relative;\n",
              "}\n",
              "\n",
              "#sk-container-id-1 div.sk-parallel-item {\n",
              "  display: flex;\n",
              "  flex-direction: column;\n",
              "}\n",
              "\n",
              "#sk-container-id-1 div.sk-parallel-item:first-child::after {\n",
              "  align-self: flex-end;\n",
              "  width: 50%;\n",
              "}\n",
              "\n",
              "#sk-container-id-1 div.sk-parallel-item:last-child::after {\n",
              "  align-self: flex-start;\n",
              "  width: 50%;\n",
              "}\n",
              "\n",
              "#sk-container-id-1 div.sk-parallel-item:only-child::after {\n",
              "  width: 0;\n",
              "}\n",
              "\n",
              "/* Serial-specific style estimator block */\n",
              "\n",
              "#sk-container-id-1 div.sk-serial {\n",
              "  display: flex;\n",
              "  flex-direction: column;\n",
              "  align-items: center;\n",
              "  background-color: var(--sklearn-color-background);\n",
              "  padding-right: 1em;\n",
              "  padding-left: 1em;\n",
              "}\n",
              "\n",
              "\n",
              "/* Toggleable style: style used for estimator/Pipeline/ColumnTransformer box that is\n",
              "clickable and can be expanded/collapsed.\n",
              "- Pipeline and ColumnTransformer use this feature and define the default style\n",
              "- Estimators will overwrite some part of the style using the `sk-estimator` class\n",
              "*/\n",
              "\n",
              "/* Pipeline and ColumnTransformer style (default) */\n",
              "\n",
              "#sk-container-id-1 div.sk-toggleable {\n",
              "  /* Default theme specific background. It is overwritten whether we have a\n",
              "  specific estimator or a Pipeline/ColumnTransformer */\n",
              "  background-color: var(--sklearn-color-background);\n",
              "}\n",
              "\n",
              "/* Toggleable label */\n",
              "#sk-container-id-1 label.sk-toggleable__label {\n",
              "  cursor: pointer;\n",
              "  display: flex;\n",
              "  width: 100%;\n",
              "  margin-bottom: 0;\n",
              "  padding: 0.5em;\n",
              "  box-sizing: border-box;\n",
              "  text-align: center;\n",
              "  align-items: start;\n",
              "  justify-content: space-between;\n",
              "  gap: 0.5em;\n",
              "}\n",
              "\n",
              "#sk-container-id-1 label.sk-toggleable__label .caption {\n",
              "  font-size: 0.6rem;\n",
              "  font-weight: lighter;\n",
              "  color: var(--sklearn-color-text-muted);\n",
              "}\n",
              "\n",
              "#sk-container-id-1 label.sk-toggleable__label-arrow:before {\n",
              "  /* Arrow on the left of the label */\n",
              "  content: \"▸\";\n",
              "  float: left;\n",
              "  margin-right: 0.25em;\n",
              "  color: var(--sklearn-color-icon);\n",
              "}\n",
              "\n",
              "#sk-container-id-1 label.sk-toggleable__label-arrow:hover:before {\n",
              "  color: var(--sklearn-color-text);\n",
              "}\n",
              "\n",
              "/* Toggleable content - dropdown */\n",
              "\n",
              "#sk-container-id-1 div.sk-toggleable__content {\n",
              "  max-height: 0;\n",
              "  max-width: 0;\n",
              "  overflow: hidden;\n",
              "  text-align: left;\n",
              "  /* unfitted */\n",
              "  background-color: var(--sklearn-color-unfitted-level-0);\n",
              "}\n",
              "\n",
              "#sk-container-id-1 div.sk-toggleable__content.fitted {\n",
              "  /* fitted */\n",
              "  background-color: var(--sklearn-color-fitted-level-0);\n",
              "}\n",
              "\n",
              "#sk-container-id-1 div.sk-toggleable__content pre {\n",
              "  margin: 0.2em;\n",
              "  border-radius: 0.25em;\n",
              "  color: var(--sklearn-color-text);\n",
              "  /* unfitted */\n",
              "  background-color: var(--sklearn-color-unfitted-level-0);\n",
              "}\n",
              "\n",
              "#sk-container-id-1 div.sk-toggleable__content.fitted pre {\n",
              "  /* unfitted */\n",
              "  background-color: var(--sklearn-color-fitted-level-0);\n",
              "}\n",
              "\n",
              "#sk-container-id-1 input.sk-toggleable__control:checked~div.sk-toggleable__content {\n",
              "  /* Expand drop-down */\n",
              "  max-height: 200px;\n",
              "  max-width: 100%;\n",
              "  overflow: auto;\n",
              "}\n",
              "\n",
              "#sk-container-id-1 input.sk-toggleable__control:checked~label.sk-toggleable__label-arrow:before {\n",
              "  content: \"▾\";\n",
              "}\n",
              "\n",
              "/* Pipeline/ColumnTransformer-specific style */\n",
              "\n",
              "#sk-container-id-1 div.sk-label input.sk-toggleable__control:checked~label.sk-toggleable__label {\n",
              "  color: var(--sklearn-color-text);\n",
              "  background-color: var(--sklearn-color-unfitted-level-2);\n",
              "}\n",
              "\n",
              "#sk-container-id-1 div.sk-label.fitted input.sk-toggleable__control:checked~label.sk-toggleable__label {\n",
              "  background-color: var(--sklearn-color-fitted-level-2);\n",
              "}\n",
              "\n",
              "/* Estimator-specific style */\n",
              "\n",
              "/* Colorize estimator box */\n",
              "#sk-container-id-1 div.sk-estimator input.sk-toggleable__control:checked~label.sk-toggleable__label {\n",
              "  /* unfitted */\n",
              "  background-color: var(--sklearn-color-unfitted-level-2);\n",
              "}\n",
              "\n",
              "#sk-container-id-1 div.sk-estimator.fitted input.sk-toggleable__control:checked~label.sk-toggleable__label {\n",
              "  /* fitted */\n",
              "  background-color: var(--sklearn-color-fitted-level-2);\n",
              "}\n",
              "\n",
              "#sk-container-id-1 div.sk-label label.sk-toggleable__label,\n",
              "#sk-container-id-1 div.sk-label label {\n",
              "  /* The background is the default theme color */\n",
              "  color: var(--sklearn-color-text-on-default-background);\n",
              "}\n",
              "\n",
              "/* On hover, darken the color of the background */\n",
              "#sk-container-id-1 div.sk-label:hover label.sk-toggleable__label {\n",
              "  color: var(--sklearn-color-text);\n",
              "  background-color: var(--sklearn-color-unfitted-level-2);\n",
              "}\n",
              "\n",
              "/* Label box, darken color on hover, fitted */\n",
              "#sk-container-id-1 div.sk-label.fitted:hover label.sk-toggleable__label.fitted {\n",
              "  color: var(--sklearn-color-text);\n",
              "  background-color: var(--sklearn-color-fitted-level-2);\n",
              "}\n",
              "\n",
              "/* Estimator label */\n",
              "\n",
              "#sk-container-id-1 div.sk-label label {\n",
              "  font-family: monospace;\n",
              "  font-weight: bold;\n",
              "  display: inline-block;\n",
              "  line-height: 1.2em;\n",
              "}\n",
              "\n",
              "#sk-container-id-1 div.sk-label-container {\n",
              "  text-align: center;\n",
              "}\n",
              "\n",
              "/* Estimator-specific */\n",
              "#sk-container-id-1 div.sk-estimator {\n",
              "  font-family: monospace;\n",
              "  border: 1px dotted var(--sklearn-color-border-box);\n",
              "  border-radius: 0.25em;\n",
              "  box-sizing: border-box;\n",
              "  margin-bottom: 0.5em;\n",
              "  /* unfitted */\n",
              "  background-color: var(--sklearn-color-unfitted-level-0);\n",
              "}\n",
              "\n",
              "#sk-container-id-1 div.sk-estimator.fitted {\n",
              "  /* fitted */\n",
              "  background-color: var(--sklearn-color-fitted-level-0);\n",
              "}\n",
              "\n",
              "/* on hover */\n",
              "#sk-container-id-1 div.sk-estimator:hover {\n",
              "  /* unfitted */\n",
              "  background-color: var(--sklearn-color-unfitted-level-2);\n",
              "}\n",
              "\n",
              "#sk-container-id-1 div.sk-estimator.fitted:hover {\n",
              "  /* fitted */\n",
              "  background-color: var(--sklearn-color-fitted-level-2);\n",
              "}\n",
              "\n",
              "/* Specification for estimator info (e.g. \"i\" and \"?\") */\n",
              "\n",
              "/* Common style for \"i\" and \"?\" */\n",
              "\n",
              ".sk-estimator-doc-link,\n",
              "a:link.sk-estimator-doc-link,\n",
              "a:visited.sk-estimator-doc-link {\n",
              "  float: right;\n",
              "  font-size: smaller;\n",
              "  line-height: 1em;\n",
              "  font-family: monospace;\n",
              "  background-color: var(--sklearn-color-background);\n",
              "  border-radius: 1em;\n",
              "  height: 1em;\n",
              "  width: 1em;\n",
              "  text-decoration: none !important;\n",
              "  margin-left: 0.5em;\n",
              "  text-align: center;\n",
              "  /* unfitted */\n",
              "  border: var(--sklearn-color-unfitted-level-1) 1pt solid;\n",
              "  color: var(--sklearn-color-unfitted-level-1);\n",
              "}\n",
              "\n",
              ".sk-estimator-doc-link.fitted,\n",
              "a:link.sk-estimator-doc-link.fitted,\n",
              "a:visited.sk-estimator-doc-link.fitted {\n",
              "  /* fitted */\n",
              "  border: var(--sklearn-color-fitted-level-1) 1pt solid;\n",
              "  color: var(--sklearn-color-fitted-level-1);\n",
              "}\n",
              "\n",
              "/* On hover */\n",
              "div.sk-estimator:hover .sk-estimator-doc-link:hover,\n",
              ".sk-estimator-doc-link:hover,\n",
              "div.sk-label-container:hover .sk-estimator-doc-link:hover,\n",
              ".sk-estimator-doc-link:hover {\n",
              "  /* unfitted */\n",
              "  background-color: var(--sklearn-color-unfitted-level-3);\n",
              "  color: var(--sklearn-color-background);\n",
              "  text-decoration: none;\n",
              "}\n",
              "\n",
              "div.sk-estimator.fitted:hover .sk-estimator-doc-link.fitted:hover,\n",
              ".sk-estimator-doc-link.fitted:hover,\n",
              "div.sk-label-container:hover .sk-estimator-doc-link.fitted:hover,\n",
              ".sk-estimator-doc-link.fitted:hover {\n",
              "  /* fitted */\n",
              "  background-color: var(--sklearn-color-fitted-level-3);\n",
              "  color: var(--sklearn-color-background);\n",
              "  text-decoration: none;\n",
              "}\n",
              "\n",
              "/* Span, style for the box shown on hovering the info icon */\n",
              ".sk-estimator-doc-link span {\n",
              "  display: none;\n",
              "  z-index: 9999;\n",
              "  position: relative;\n",
              "  font-weight: normal;\n",
              "  right: .2ex;\n",
              "  padding: .5ex;\n",
              "  margin: .5ex;\n",
              "  width: min-content;\n",
              "  min-width: 20ex;\n",
              "  max-width: 50ex;\n",
              "  color: var(--sklearn-color-text);\n",
              "  box-shadow: 2pt 2pt 4pt #999;\n",
              "  /* unfitted */\n",
              "  background: var(--sklearn-color-unfitted-level-0);\n",
              "  border: .5pt solid var(--sklearn-color-unfitted-level-3);\n",
              "}\n",
              "\n",
              ".sk-estimator-doc-link.fitted span {\n",
              "  /* fitted */\n",
              "  background: var(--sklearn-color-fitted-level-0);\n",
              "  border: var(--sklearn-color-fitted-level-3);\n",
              "}\n",
              "\n",
              ".sk-estimator-doc-link:hover span {\n",
              "  display: block;\n",
              "}\n",
              "\n",
              "/* \"?\"-specific style due to the `<a>` HTML tag */\n",
              "\n",
              "#sk-container-id-1 a.estimator_doc_link {\n",
              "  float: right;\n",
              "  font-size: 1rem;\n",
              "  line-height: 1em;\n",
              "  font-family: monospace;\n",
              "  background-color: var(--sklearn-color-background);\n",
              "  border-radius: 1rem;\n",
              "  height: 1rem;\n",
              "  width: 1rem;\n",
              "  text-decoration: none;\n",
              "  /* unfitted */\n",
              "  color: var(--sklearn-color-unfitted-level-1);\n",
              "  border: var(--sklearn-color-unfitted-level-1) 1pt solid;\n",
              "}\n",
              "\n",
              "#sk-container-id-1 a.estimator_doc_link.fitted {\n",
              "  /* fitted */\n",
              "  border: var(--sklearn-color-fitted-level-1) 1pt solid;\n",
              "  color: var(--sklearn-color-fitted-level-1);\n",
              "}\n",
              "\n",
              "/* On hover */\n",
              "#sk-container-id-1 a.estimator_doc_link:hover {\n",
              "  /* unfitted */\n",
              "  background-color: var(--sklearn-color-unfitted-level-3);\n",
              "  color: var(--sklearn-color-background);\n",
              "  text-decoration: none;\n",
              "}\n",
              "\n",
              "#sk-container-id-1 a.estimator_doc_link.fitted:hover {\n",
              "  /* fitted */\n",
              "  background-color: var(--sklearn-color-fitted-level-3);\n",
              "}\n",
              "</style><div id=\"sk-container-id-1\" class=\"sk-top-container\"><div class=\"sk-text-repr-fallback\"><pre>LinearRegression()</pre><b>In a Jupyter environment, please rerun this cell to show the HTML representation or trust the notebook. <br />On GitHub, the HTML representation is unable to render, please try loading this page with nbviewer.org.</b></div><div class=\"sk-container\" hidden><div class=\"sk-item\"><div class=\"sk-estimator fitted sk-toggleable\"><input class=\"sk-toggleable__control sk-hidden--visually\" id=\"sk-estimator-id-1\" type=\"checkbox\" checked><label for=\"sk-estimator-id-1\" class=\"sk-toggleable__label fitted sk-toggleable__label-arrow\"><div><div>LinearRegression</div></div><div><a class=\"sk-estimator-doc-link fitted\" rel=\"noreferrer\" target=\"_blank\" href=\"https://scikit-learn.org/1.6/modules/generated/sklearn.linear_model.LinearRegression.html\">?<span>Documentation for LinearRegression</span></a><span class=\"sk-estimator-doc-link fitted\">i<span>Fitted</span></span></div></label><div class=\"sk-toggleable__content fitted\"><pre>LinearRegression()</pre></div> </div></div></div></div>"
            ]
          },
          "metadata": {},
          "execution_count": 79
        }
      ]
    },
    {
      "cell_type": "markdown",
      "source": [
        "##**Test Model With Training Data**##"
      ],
      "metadata": {
        "id": "HMcRv6mGSyjj"
      }
    },
    {
      "cell_type": "code",
      "source": [
        "# we'd generate prediction using X_train\n",
        "model_train_pred=model.predict(X_train)\n",
        "model_train_pred"
      ],
      "metadata": {
        "colab": {
          "base_uri": "https://localhost:8080/"
        },
        "id": "lCH8w0L1S4U-",
        "outputId": "d644c59f-6875-4242-bbd0-e0a42506bd14"
      },
      "execution_count": null,
      "outputs": [
        {
          "output_type": "execute_result",
          "data": {
            "text/plain": [
              "array([14.73197103, 10.20179801, 11.4533813 , 14.80960642, 12.69710853,\n",
              "       18.40340064, 12.36184537, 13.15704649, 10.29890308, 10.80666487,\n",
              "       21.65527268, 10.90445573, 11.46722709, 22.21663851, 11.66521105,\n",
              "       12.19217116, 11.74036508, 10.70069512, 17.04018155, 17.29978005,\n",
              "       11.13787381, 18.03384353, 10.85975491, 10.77565111, 12.27654455,\n",
              "       18.8027883 , 10.8991627 , 17.50384726, 22.21663851, 10.60897319,\n",
              "       14.88619178, 12.06115561, 12.51049677, 10.07937302, 11.00138669,\n",
              "       14.56407761, 22.21663851, 14.39684579, 10.78572623, 13.7912399 ,\n",
              "       10.50518328, 15.56625661, 15.38736539, 10.77868741, 10.28293065,\n",
              "       14.14858229, 19.59376075, 10.2450869 , 10.63356594, 12.96735484,\n",
              "       10.12910534, 10.77878243, 12.121923  , 15.19973422, 21.3484838 ,\n",
              "       15.13558345, 10.27267563, 11.37880664, 12.56767783, 15.26534531,\n",
              "       10.02637362, 19.72922623, 20.81312188, 11.53968667, 13.27389726,\n",
              "       11.41263743, 10.9902348 , 14.20461105, 10.6162504 , 10.86812985,\n",
              "       13.62674111, 16.18488055, 16.34097322, 10.59987102, 10.55214014,\n",
              "       20.34036598, 15.32358329, 11.79323314, 12.88116789, 11.75795224,\n",
              "       11.87211792, 10.87607807, 11.35185708, 13.70094318, 13.83912913,\n",
              "       11.93074181, 11.71612532, 22.21663851, 17.68200848, 11.05556662,\n",
              "       12.15023727, 16.03830675, 10.96866119, 14.64895867, 10.10269639,\n",
              "       12.73267954, 11.18108861, 14.44472647, 19.8856032 , 16.50095638,\n",
              "       21.07423503, 11.07463017, 11.77722478, 10.78603741, 10.26478017,\n",
              "       13.06494972, 12.08315181, 11.84327526, 19.22661958, 22.21663851,\n",
              "       12.03422995, 10.27920981, 10.31369572, 11.31131127, 18.21152602,\n",
              "       14.34894004, 10.41905925, 11.59166442, 19.01281961, 14.49649609,\n",
              "       17.58529068, 20.56480758, 11.3970139 , 11.18940226, 12.82580759,\n",
              "       11.13364273, 22.21663851, 11.2848085 , 11.0777923 , 11.99783313,\n",
              "       10.50364049, 11.26469578, 17.12971243, 22.21663851, 14.25083217,\n",
              "       10.85062476, 16.79967294, 22.10796163, 10.01893193, 11.16838848,\n",
              "       15.67039478, 14.30226665, 15.90005152, 12.66386731, 12.41132662,\n",
              "       13.54021527, 11.96102115, 11.64076279, 13.74459373, 22.21663851,\n",
              "       10.49510976, 22.21663851, 11.56697968, 12.7694628 , 10.32794384,\n",
              "       12.10575248, 20.09963143, 12.61618863])"
            ]
          },
          "metadata": {},
          "execution_count": 80
        }
      ]
    },
    {
      "cell_type": "markdown",
      "source": [
        "##**Evaluate Model Perfomance 1**"
      ],
      "metadata": {
        "id": "3HB8FfJaTmBa"
      }
    },
    {
      "cell_type": "code",
      "source": [
        "# Calculate Model Mae for training data\n",
        "\n",
        "model_train_mae= mean_absolute_error(y_train,model_train_pred)\n",
        "round(model_train_mae,2)"
      ],
      "metadata": {
        "colab": {
          "base_uri": "https://localhost:8080/"
        },
        "id": "3VHAkXllUGxK",
        "outputId": "019fd2f7-bb83-4086-869d-b33a04ae4958"
      },
      "execution_count": null,
      "outputs": [
        {
          "output_type": "execute_result",
          "data": {
            "text/plain": [
              "2.42"
            ]
          },
          "metadata": {},
          "execution_count": 81
        }
      ]
    },
    {
      "cell_type": "markdown",
      "source": [
        "##**Compare Baseline MAE with Model training MAE**##"
      ],
      "metadata": {
        "id": "UxdZ6GJ3U9PP"
      }
    },
    {
      "cell_type": "code",
      "source": [
        "#print baseline and model (train)maebto compare both\n",
        "\n",
        "print(\"The baseline MAE is:\\t\\t\",round(baseline_mae,2))\n",
        "print(\"The model(train)MAE is:\\t\\t\",round(model_train_mae,2))"
      ],
      "metadata": {
        "colab": {
          "base_uri": "https://localhost:8080/"
        },
        "id": "N8WzCK-MUzXP",
        "outputId": "4e6cf303-f558-4a12-f250-4473c49c9325"
      },
      "execution_count": null,
      "outputs": [
        {
          "output_type": "stream",
          "name": "stdout",
          "text": [
            "The baseline MAE is:\t\t 3.45\n",
            "The model(train)MAE is:\t\t 2.42\n"
          ]
        }
      ]
    },
    {
      "cell_type": "markdown",
      "source": [
        "##**Test Model with Testing Data**##"
      ],
      "metadata": {
        "id": "kMDx4-f9VR4-"
      }
    },
    {
      "cell_type": "code",
      "source": [
        "# Model generate prediction off X_test Values\n",
        "model_test_pred=model.predict(X_test)\n",
        "model_test_pred"
      ],
      "metadata": {
        "colab": {
          "base_uri": "https://localhost:8080/"
        },
        "id": "EHQ53l7iVUnT",
        "outputId": "99a8fcd4-93b8-4ab1-d687-9e7a7a629844"
      },
      "execution_count": null,
      "outputs": [
        {
          "output_type": "execute_result",
          "data": {
            "text/plain": [
              "array([11.43400176, 13.44134421, 10.37794842, 15.05422469, 16.6468535 ,\n",
              "       14.07012435, 14.96862858, 10.73239974, 10.46343718, 17.88239209,\n",
              "       16.95683492, 10.34119369, 11.20854436, 11.23844364, 13.49734513,\n",
              "       10.99407399, 13.90941251, 10.27067908, 15.46806357, 11.89657182,\n",
              "       13.36816435, 17.22510133, 11.33343308, 22.21663851, 11.61000641,\n",
              "       11.49232913, 13.65633122, 17.39270387, 13.58240573, 19.43764745,\n",
              "       11.51594122, 11.69045062, 13.99363917, 11.81324513, 10.57760086,\n",
              "       22.21663851, 12.22585759, 18.60025383, 10.48358421, 15.7789971 ])"
            ]
          },
          "metadata": {},
          "execution_count": 83
        }
      ]
    },
    {
      "cell_type": "markdown",
      "source": [
        "##**Evaluate Model Perfomance 2**##"
      ],
      "metadata": {
        "id": "0vlqdKzKVsPm"
      }
    },
    {
      "cell_type": "code",
      "source": [
        "#calculate model MAE for test data\n",
        "model_test_mae= mean_absolute_error(y_test,model_test_pred)\n",
        "round(model_test_mae,2)"
      ],
      "metadata": {
        "colab": {
          "base_uri": "https://localhost:8080/"
        },
        "id": "1LlWpupsV2im",
        "outputId": "fd8bbdab-0427-4e4a-a298-d625004366c4"
      },
      "execution_count": null,
      "outputs": [
        {
          "output_type": "execute_result",
          "data": {
            "text/plain": [
              "2.33"
            ]
          },
          "metadata": {},
          "execution_count": 84
        }
      ]
    },
    {
      "cell_type": "markdown",
      "source": [
        "##**Compare Model Baseline, Train Model MAE and Test Model MAE**##"
      ],
      "metadata": {
        "id": "ncMGZDPyWIli"
      }
    },
    {
      "cell_type": "code",
      "source": [
        "#print baseline model(train) and Model(test) MAEs to compare the three of them\n",
        "print(\"The baseline MEA is:\\t\\t\",round(baseline_mae,2))\n",
        "print(\"The model(train) MAE is:\\t\",round(model_train_mae,2))\n",
        "print(\"The model(Test) MAE is:\\t\\t\", round(model_test_mae,2))"
      ],
      "metadata": {
        "colab": {
          "base_uri": "https://localhost:8080/"
        },
        "id": "uhE3vMW8WofA",
        "outputId": "4d524108-5e90-42e0-cf3c-a05479b3a7d4"
      },
      "execution_count": null,
      "outputs": [
        {
          "output_type": "stream",
          "name": "stdout",
          "text": [
            "The baseline MEA is:\t\t 3.45\n",
            "The model(train) MAE is:\t 2.42\n",
            "The model(Test) MAE is:\t\t 2.33\n"
          ]
        }
      ]
    }
  ]
}