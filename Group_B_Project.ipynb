{
  "nbformat": 4,
  "nbformat_minor": 0,
  "metadata": {
    "colab": {
      "provenance": [],
      "authorship_tag": "ABX9TyPz0t7clMUhdTiEN6OI/aYP",
      "include_colab_link": true
    },
    "kernelspec": {
      "name": "python3",
      "display_name": "Python 3"
    },
    "language_info": {
      "name": "python"
    }
  },
  "cells": [
    {
      "cell_type": "markdown",
      "metadata": {
        "id": "view-in-github",
        "colab_type": "text"
      },
      "source": [
        "<a href=\"https://colab.research.google.com/github/Pateke/Simple-Predictive-Machine-Model/blob/main/Group_B_Project.ipynb\" target=\"_parent\"><img src=\"https://colab.research.google.com/assets/colab-badge.svg\" alt=\"Open In Colab\"/></a>"
      ]
    },
    {
      "cell_type": "code",
      "execution_count": null,
      "metadata": {
        "id": "54M93TrDNqBN"
      },
      "outputs": [],
      "source": []
    },
    {
      "cell_type": "markdown",
      "source": [
        "##**Linear Regression Model: Predicting Nigeria's Inflation Rate**\n",
        "\n",
        "This documentation outlines the process of developing and evaluating a linear regression model to predict Nigeria's inflation rate using real-world economic data. The model leverages the relationship between various Consumer Price Index (CPI) components and key economic indicators to predict the inflation rate, and its performance is measured using the Mean Absolute Error (MAE) metric.\n",
        "\n",
        "##**Problem Statement**\n",
        "• **Objective**\n",
        "\n",
        "To create a predictive model that can estimate Nigeria's inflation rate based on select features of various CPI components.\n",
        "\n",
        "• **Goal**\n",
        "\n",
        "The model will take input values for selected economic features (like CPI components) and predict the inflation rate, providing a tool for forecasting and understanding economic trends.\n",
        "\n",
        "\n",
        "**Data Description**\n",
        "\n",
        "The dataset provides a comprehensive overview of Nigeria's monthly inflation rates from March 2003 to June 2024. It also includes key economic indicators such as:\n",
        "\n",
        "• Crude oil prices\n",
        "\n",
        "• Production levels\n",
        "\n",
        "• Various Consumer Price Index (CPI) components\n",
        "\n",
        "This dataset is ideal for time series analysis, forecasting, and economic modeling, capturing significant trends that are valuable for economic prediction.\n",
        "\n",
        "**Model Training**\n",
        "\n",
        "**Import Statements and Dataset**\n",
        "\n",
        "To begin with, the necessary libraries and modules are imported, and the dataset is loaded into the model.\n",
        "\n",
        "import pandas as pd<br>\n",
        "import numpy as np<br>\n",
        "import matplotlib.pyplot as plt<br>\n",
        "import seaborn as sns<br>\n",
        "import sklearn<br>\n",
        "from sklearn.model_selection import train_test_split<br>\n",
        "from sklearn.linear_model import LinearRegression<br>\n",
        "from sklearn.metrics import mean_absolute_error<br>\n",
        "from sklearn.metrics import mean_squared_error, r2_score<br>\n",
        "\n",
        "**Data Splitting**\n",
        "\n",
        "The dataset contains both features (independent variables) and the target variable (inflation rate). Here, we use one feature, CPI_Food, for model training.\n",
        "\n",
        "• X (features): Consumer Price Index (CPI) for food<br>\n",
        "• y (target): Inflation rate<br>\n",
        "\n",
        "The data is split into training and test sets, with an 80%/20% ratio for training and testing, respectively:\n",
        "\n",
        "X = data['CPI_Food']<br>\n",
        "y = data['Inflation Rate']<br>\n",
        "X_train, X_test, y_train, y_test = train_test_split(X, y, test_size=0.2, random_state=42)\n",
        "\n",
        "**Model Training**\n",
        "\n",
        "The linear regression model is trained using the training set (X_train and y_train):<br>\n",
        "\n",
        "model = LinearRegression()<br>\n",
        "model.fit(X_train.values, y_train.value) # Reshaping X_train for fitting the model<br>\n",
        "\n",
        "**Model Evaluation**<br>\n",
        "\n",
        "After training the model, predictions are made on both the training and test sets. The performance is evaluated using the Mean Absolute Error (MAE) metric, which measures the average magnitude of errors in a set of predictions. A lower MAE indicates better model accuracy.\n",
        "\n",
        "• Baseline Model MAE: 3.45 (This is the performance of a simple guess, like predicting the average value of the target variable for all data points.)\n",
        "\n",
        "• Model (Train) MAE: 2.42 (The MAE on the training data, showing how well the model fits the training set.)\n",
        "\n",
        "• Model (Test) MAE: 2.33 (The MAE on the test data, showing how well the model generalizes to unseen data.)\n",
        "\n",
        "The test MAE of 2.33 demonstrates that the model’s predictions are closer to the actual inflation rates compared to the baseline model (MAE of 3.45), indicating an improvement in predictive accuracy.\n",
        "\n",
        "Make predictions on train and test sets<br>\n",
        "train_predictions = model.predict(X_train.values.shape)<br>\n",
        "test_predictions = model.predict(X_test.values.shape)<br>\n",
        "\n",
        "Calculate MAE for training and testing sets<br>\n",
        "train_mae = mean_absolute_error(y_train, train_predictions)<br>\n",
        "test_mae = mean_absolute_error(y_test, test_predictions)<br>\n",
        "\n",
        "**Conclusion**\n",
        "\n",
        "The model has demonstrated a significant improvement in predictive accuracy compared to a baseline model, achieving a test MAE of 2.33. This indicates that the linear regression model, trained on CPI data (in this case, CPI_Food), is a useful tool for predicting Nigeria's inflation rate.\n",
        "\n",
        "Further improvements could involve:\n",
        "\n",
        "• Incorporating additional features (e.g., crude oil prices, production levels) into the model\n",
        "\n",
        "• Evaluating more advanced models such as polynomial regression or machine learning models (e.g., Random Forest or XGBoost)\n",
        "\n",
        "Future Work\n",
        "Future work can focus on:\n",
        "\n",
        "• Expanding the feature set to include more economic indicators.\n",
        "\n",
        "• Evaluating model performance over longer time periods or using different time series techniques for more accurate forecasting.\n",
        "\n",
        "• Experimenting with advanced models to improve prediction accuracy and handle non-linearity in the data."
      ],
      "metadata": {
        "id": "DIJsg9wANsxu"
      }
    }
  ]
}